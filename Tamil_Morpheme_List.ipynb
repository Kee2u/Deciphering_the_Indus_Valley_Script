{
 "cells": [
  {
   "cell_type": "code",
   "execution_count": 1,
   "metadata": {},
   "outputs": [],
   "source": [
    "#my reference: https://pypi.org/project/conllu/"
   ]
  },
  {
   "cell_type": "code",
   "execution_count": 2,
   "metadata": {},
   "outputs": [],
   "source": [
    "from io import open\n",
    "from conllu import parse_tree_incr\n",
    "from conllu import parse_incr\n",
    "from conllu import parse\n",
    "from collections import OrderedDict\n",
    "import pandas as pd"
   ]
  },
  {
   "cell_type": "code",
   "execution_count": 3,
   "metadata": {},
   "outputs": [],
   "source": [
    "file = 'TamilTB.v0.1\\data\\TamilTB.v0.1.utf8.conll'\r\n",
    "data_file = open(file, \"r\", encoding=\"utf-8\")\r\n"
   ]
  },
  {
   "cell_type": "code",
   "execution_count": 25,
   "metadata": {},
   "outputs": [],
   "source": [
    "#Setting precision of dataframe as 0\r\n",
    "pd.set_option('precision', 0)\r\n",
    "\r\n",
    "#Setting Dataframe display to max\r\n",
    "pd.set_option('display.max_rows', None)"
   ]
  },
  {
   "cell_type": "code",
   "execution_count": 5,
   "metadata": {},
   "outputs": [
    {
     "data": {
      "text/html": "<div>\n<style scoped>\n    .dataframe tbody tr th:only-of-type {\n        vertical-align: middle;\n    }\n\n    .dataframe tbody tr th {\n        vertical-align: top;\n    }\n\n    .dataframe thead th {\n        text-align: right;\n    }\n</style>\n<table border=\"1\" class=\"dataframe\">\n  <thead>\n    <tr style=\"text-align: right;\">\n      <th></th>\n      <th>id</th>\n      <th>form</th>\n      <th>lemma</th>\n      <th>upos</th>\n      <th>xpos</th>\n      <th>feats</th>\n      <th>head</th>\n      <th>Morpheme</th>\n    </tr>\n  </thead>\n  <tbody>\n    <tr>\n      <th>0</th>\n      <td>1</td>\n      <td>சென்னை</td>\n      <td>சென்னை</td>\n      <td>N</td>\n      <td>NEN-3SN--</td>\n      <td>{'Cas': 'N', 'Per': '3', 'Num': 'S', 'Gen': 'N'}</td>\n      <td>2</td>\n      <td>NaN</td>\n    </tr>\n    <tr>\n      <th>1</th>\n      <td>2</td>\n      <td>அருகே</td>\n      <td>அருகே</td>\n      <td>P</td>\n      <td>PP-------</td>\n      <td>None</td>\n      <td>18</td>\n      <td>NaN</td>\n    </tr>\n    <tr>\n      <th>2</th>\n      <td>3</td>\n      <td>ஸ்ரீ</td>\n      <td>ஸ்ரீ</td>\n      <td>N</td>\n      <td>NEN-3SN--</td>\n      <td>{'Cas': 'N', 'Per': '3', 'Num': 'S', 'Gen': 'N'}</td>\n      <td>4</td>\n      <td>NaN</td>\n    </tr>\n    <tr>\n      <th>3</th>\n      <td>4</td>\n      <td>பெரும்புதூரில்</td>\n      <td>பெரும்புதூர்</td>\n      <td>N</td>\n      <td>NEL-3SN--</td>\n      <td>{'Cas': 'L', 'Per': '3', 'Num': 'S', 'Gen': 'N'}</td>\n      <td>18</td>\n      <td>NaN</td>\n    </tr>\n    <tr>\n      <th>4</th>\n      <td>5</td>\n      <td>கிரீன்</td>\n      <td>கிரீன்</td>\n      <td>N</td>\n      <td>NEN-3SN--</td>\n      <td>{'Cas': 'N', 'Per': '3', 'Num': 'S', 'Gen': 'N'}</td>\n      <td>6</td>\n      <td>NaN</td>\n    </tr>\n  </tbody>\n</table>\n</div>",
      "text/plain": "  id            form         lemma upos       xpos  \\\n0  1          சென்னை        சென்னை    N  NEN-3SN--   \n1  2           அருகே         அருகே    P  PP-------   \n2  3            ஸ்ரீ          ஸ்ரீ    N  NEN-3SN--   \n3  4  பெரும்புதூரில்  பெரும்புதூர்    N  NEL-3SN--   \n4  5          கிரீன்        கிரீன்    N  NEN-3SN--   \n\n                                              feats head Morpheme  \n0  {'Cas': 'N', 'Per': '3', 'Num': 'S', 'Gen': 'N'}    2      NaN  \n1                                              None   18      NaN  \n2  {'Cas': 'N', 'Per': '3', 'Num': 'S', 'Gen': 'N'}    4      NaN  \n3  {'Cas': 'L', 'Per': '3', 'Num': 'S', 'Gen': 'N'}   18      NaN  \n4  {'Cas': 'N', 'Per': '3', 'Num': 'S', 'Gen': 'N'}    6      NaN  "
     },
     "execution_count": 5,
     "metadata": {},
     "output_type": "execute_result"
    }
   ],
   "source": [
    "#Converting conll to a dataframe\r\n",
    "columns = ['id', 'form', 'lemma', 'upos', 'xpos', 'feats', 'head', 'Morpheme']\r\n",
    "df = pd.DataFrame(columns = columns)\r\n",
    "for tokenlist in parse_incr(data_file):\r\n",
    "    for word in tokenlist:\r\n",
    "        df = df.append({'id': word[\"id\"], \r\n",
    "                        'form' : word[\"form\"],\r\n",
    "                        'lemma' : word[\"lemma\"],\r\n",
    "                        'upos' : word[\"upos\"],\r\n",
    "                        'xpos' : word[\"xpos\"],\r\n",
    "                        'feats' : word[\"feats\"],\r\n",
    "                        'head' : word[\"head\"]},\r\n",
    "                        ignore_index = True\r\n",
    "                        )\r\n",
    "df.head()"
   ]
  },
  {
   "cell_type": "code",
   "execution_count": 6,
   "metadata": {},
   "outputs": [],
   "source": [
    "#Function to extract the morphemes by stripping away the lemma\r\n",
    "def morpheme_extract(lemmalist, wordlist):\r\n",
    "    if len(lemmalist)<len(wordlist):\r\n",
    "        for i in range(len(lemmalist)):\r\n",
    "            if (wordlist[i] != lemmalist[i]):\r\n",
    "                difference.append(wordlist[i])\r\n",
    "        index = i\r\n",
    "        for i in range(len(wordlist)):\r\n",
    "            if i > index:\r\n",
    "                difference.append(wordlist[i])\r\n",
    "                morpheme = ''.join(difference)\r\n",
    "                row[\"Morpheme\"] = morpheme\r\n",
    "    else:\r\n",
    "        row[\"Morpheme\"] = \"\"\r\n"
   ]
  },
  {
   "cell_type": "code",
   "execution_count": 7,
   "metadata": {},
   "outputs": [],
   "source": [
    "# Going through each row in the dataframe and calling the function to strip away the morphemes\r\n",
    "for index, row in df.iterrows():\r\n",
    "    word = row[\"form\"]\r\n",
    "    wordlist = [ch for ch in word] \r\n",
    "    lemma = row[\"lemma\"]\r\n",
    "    lemmalist = [ch for ch in lemma] \r\n",
    "    difference = []\r\n",
    "    morpheme_extract(lemmalist, wordlist)\r\n",
    "    difference[:5]"
   ]
  },
  {
   "cell_type": "code",
   "execution_count": 8,
   "metadata": {},
   "outputs": [
    {
     "data": {
      "text/html": "<div>\n<style scoped>\n    .dataframe tbody tr th:only-of-type {\n        vertical-align: middle;\n    }\n\n    .dataframe tbody tr th {\n        vertical-align: top;\n    }\n\n    .dataframe thead th {\n        text-align: right;\n    }\n</style>\n<table border=\"1\" class=\"dataframe\">\n  <thead>\n    <tr style=\"text-align: right;\">\n      <th></th>\n      <th>id</th>\n      <th>form</th>\n      <th>lemma</th>\n      <th>upos</th>\n      <th>xpos</th>\n      <th>feats</th>\n      <th>head</th>\n      <th>Morpheme</th>\n    </tr>\n  </thead>\n  <tbody>\n    <tr>\n      <th>0</th>\n      <td>1</td>\n      <td>சென்னை</td>\n      <td>சென்னை</td>\n      <td>N</td>\n      <td>NEN-3SN--</td>\n      <td>{'Cas': 'N', 'Per': '3', 'Num': 'S', 'Gen': 'N'}</td>\n      <td>2</td>\n      <td></td>\n    </tr>\n    <tr>\n      <th>1</th>\n      <td>2</td>\n      <td>அருகே</td>\n      <td>அருகே</td>\n      <td>P</td>\n      <td>PP-------</td>\n      <td>None</td>\n      <td>18</td>\n      <td></td>\n    </tr>\n    <tr>\n      <th>2</th>\n      <td>3</td>\n      <td>ஸ்ரீ</td>\n      <td>ஸ்ரீ</td>\n      <td>N</td>\n      <td>NEN-3SN--</td>\n      <td>{'Cas': 'N', 'Per': '3', 'Num': 'S', 'Gen': 'N'}</td>\n      <td>4</td>\n      <td></td>\n    </tr>\n    <tr>\n      <th>3</th>\n      <td>4</td>\n      <td>பெரும்புதூரில்</td>\n      <td>பெரும்புதூர்</td>\n      <td>N</td>\n      <td>NEL-3SN--</td>\n      <td>{'Cas': 'L', 'Per': '3', 'Num': 'S', 'Gen': 'N'}</td>\n      <td>18</td>\n      <td>ில்</td>\n    </tr>\n    <tr>\n      <th>4</th>\n      <td>5</td>\n      <td>கிரீன்</td>\n      <td>கிரீன்</td>\n      <td>N</td>\n      <td>NEN-3SN--</td>\n      <td>{'Cas': 'N', 'Per': '3', 'Num': 'S', 'Gen': 'N'}</td>\n      <td>6</td>\n      <td></td>\n    </tr>\n    <tr>\n      <th>...</th>\n      <td>...</td>\n      <td>...</td>\n      <td>...</td>\n      <td>...</td>\n      <td>...</td>\n      <td>...</td>\n      <td>...</td>\n      <td>...</td>\n    </tr>\n    <tr>\n      <th>9576</th>\n      <td>10</td>\n      <td>வேண்டும்</td>\n      <td>வேண்டு</td>\n      <td>V</td>\n      <td>VR-F3SNAA</td>\n      <td>{'Ten': 'F', 'Per': '3', 'Num': 'S', 'Gen': 'N...</td>\n      <td>9</td>\n      <td>ம்</td>\n    </tr>\n    <tr>\n      <th>9577</th>\n      <td>11</td>\n      <td>என்பது</td>\n      <td>என்</td>\n      <td>T</td>\n      <td>TQ-------</td>\n      <td>None</td>\n      <td>13</td>\n      <td>பது</td>\n    </tr>\n    <tr>\n      <th>9578</th>\n      <td>12</td>\n      <td>தான்</td>\n      <td>தான்</td>\n      <td>T</td>\n      <td>Tq-------</td>\n      <td>None</td>\n      <td>11</td>\n      <td></td>\n    </tr>\n    <tr>\n      <th>9579</th>\n      <td>13</td>\n      <td>அது</td>\n      <td>அது</td>\n      <td>R</td>\n      <td>RpN-3SN--</td>\n      <td>{'Cas': 'N', 'Per': '3', 'Num': 'S', 'Gen': 'N'}</td>\n      <td>0</td>\n      <td></td>\n    </tr>\n    <tr>\n      <th>9580</th>\n      <td>14</td>\n      <td>.</td>\n      <td>.</td>\n      <td>Z</td>\n      <td>Z#-------</td>\n      <td>None</td>\n      <td>0</td>\n      <td></td>\n    </tr>\n  </tbody>\n</table>\n<p>9581 rows × 8 columns</p>\n</div>",
      "text/plain": "      id            form         lemma upos       xpos  \\\n0      1          சென்னை        சென்னை    N  NEN-3SN--   \n1      2           அருகே         அருகே    P  PP-------   \n2      3            ஸ்ரீ          ஸ்ரீ    N  NEN-3SN--   \n3      4  பெரும்புதூரில்  பெரும்புதூர்    N  NEL-3SN--   \n4      5          கிரீன்        கிரீன்    N  NEN-3SN--   \n...   ..             ...           ...  ...        ...   \n9576  10        வேண்டும்        வேண்டு    V  VR-F3SNAA   \n9577  11          என்பது           என்    T  TQ-------   \n9578  12            தான்          தான்    T  Tq-------   \n9579  13             அது           அது    R  RpN-3SN--   \n9580  14               .             .    Z  Z#-------   \n\n                                                  feats head Morpheme  \n0      {'Cas': 'N', 'Per': '3', 'Num': 'S', 'Gen': 'N'}    2           \n1                                                  None   18           \n2      {'Cas': 'N', 'Per': '3', 'Num': 'S', 'Gen': 'N'}    4           \n3      {'Cas': 'L', 'Per': '3', 'Num': 'S', 'Gen': 'N'}   18      ில்  \n4      {'Cas': 'N', 'Per': '3', 'Num': 'S', 'Gen': 'N'}    6           \n...                                                 ...  ...      ...  \n9576  {'Ten': 'F', 'Per': '3', 'Num': 'S', 'Gen': 'N...    9       ம்  \n9577                                               None   13      பது  \n9578                                               None   11           \n9579   {'Cas': 'N', 'Per': '3', 'Num': 'S', 'Gen': 'N'}    0           \n9580                                               None    0           \n\n[9581 rows x 8 columns]"
     },
     "execution_count": 8,
     "metadata": {},
     "output_type": "execute_result"
    }
   ],
   "source": [
    "df.head()"
   ]
  },
  {
   "cell_type": "code",
   "execution_count": 9,
   "metadata": {},
   "outputs": [
    {
     "data": {
      "text/html": "<div>\n<style scoped>\n    .dataframe tbody tr th:only-of-type {\n        vertical-align: middle;\n    }\n\n    .dataframe tbody tr th {\n        vertical-align: top;\n    }\n\n    .dataframe thead th {\n        text-align: right;\n    }\n</style>\n<table border=\"1\" class=\"dataframe\">\n  <thead>\n    <tr style=\"text-align: right;\">\n      <th></th>\n      <th>form</th>\n      <th>lemma</th>\n      <th>upos</th>\n      <th>xpos</th>\n      <th>feats</th>\n      <th>head</th>\n      <th>Morpheme</th>\n    </tr>\n  </thead>\n  <tbody>\n    <tr>\n      <th>0</th>\n      <td>சென்னை</td>\n      <td>சென்னை</td>\n      <td>N</td>\n      <td>NEN-3SN--</td>\n      <td>{'Cas': 'N', 'Per': '3', 'Num': 'S', 'Gen': 'N'}</td>\n      <td>2</td>\n      <td></td>\n    </tr>\n    <tr>\n      <th>1</th>\n      <td>அருகே</td>\n      <td>அருகே</td>\n      <td>P</td>\n      <td>PP-------</td>\n      <td>None</td>\n      <td>18</td>\n      <td></td>\n    </tr>\n    <tr>\n      <th>2</th>\n      <td>ஸ்ரீ</td>\n      <td>ஸ்ரீ</td>\n      <td>N</td>\n      <td>NEN-3SN--</td>\n      <td>{'Cas': 'N', 'Per': '3', 'Num': 'S', 'Gen': 'N'}</td>\n      <td>4</td>\n      <td></td>\n    </tr>\n    <tr>\n      <th>3</th>\n      <td>பெரும்புதூரில்</td>\n      <td>பெரும்புதூர்</td>\n      <td>N</td>\n      <td>NEL-3SN--</td>\n      <td>{'Cas': 'L', 'Per': '3', 'Num': 'S', 'Gen': 'N'}</td>\n      <td>18</td>\n      <td>ில்</td>\n    </tr>\n    <tr>\n      <th>4</th>\n      <td>கிரீன்</td>\n      <td>கிரீன்</td>\n      <td>N</td>\n      <td>NEN-3SN--</td>\n      <td>{'Cas': 'N', 'Per': '3', 'Num': 'S', 'Gen': 'N'}</td>\n      <td>6</td>\n      <td></td>\n    </tr>\n  </tbody>\n</table>\n</div>",
      "text/plain": "             form         lemma upos       xpos  \\\n0          சென்னை        சென்னை    N  NEN-3SN--   \n1           அருகே         அருகே    P  PP-------   \n2            ஸ்ரீ          ஸ்ரீ    N  NEN-3SN--   \n3  பெரும்புதூரில்  பெரும்புதூர்    N  NEL-3SN--   \n4          கிரீன்        கிரீன்    N  NEN-3SN--   \n\n                                              feats head Morpheme  \n0  {'Cas': 'N', 'Per': '3', 'Num': 'S', 'Gen': 'N'}    2           \n1                                              None   18           \n2  {'Cas': 'N', 'Per': '3', 'Num': 'S', 'Gen': 'N'}    4           \n3  {'Cas': 'L', 'Per': '3', 'Num': 'S', 'Gen': 'N'}   18      ில்  \n4  {'Cas': 'N', 'Per': '3', 'Num': 'S', 'Gen': 'N'}    6           "
     },
     "execution_count": 9,
     "metadata": {},
     "output_type": "execute_result"
    }
   ],
   "source": [
    "#Dropping id column\r\n",
    "df.drop(columns='id', inplace=True)\r\n",
    "df.head()"
   ]
  },
  {
   "cell_type": "code",
   "execution_count": 10,
   "metadata": {},
   "outputs": [
    {
     "data": {
      "text/html": "<div>\n<style scoped>\n    .dataframe tbody tr th:only-of-type {\n        vertical-align: middle;\n    }\n\n    .dataframe tbody tr th {\n        vertical-align: top;\n    }\n\n    .dataframe thead th {\n        text-align: right;\n    }\n</style>\n<table border=\"1\" class=\"dataframe\">\n  <thead>\n    <tr style=\"text-align: right;\">\n      <th></th>\n      <th>index</th>\n      <th>NoSpaceAfter</th>\n    </tr>\n  </thead>\n  <tbody>\n    <tr>\n      <th>0</th>\n      <td>0</td>\n      <td>0</td>\n    </tr>\n    <tr>\n      <th>1</th>\n      <td>1</td>\n      <td>0</td>\n    </tr>\n    <tr>\n      <th>2</th>\n      <td>2</td>\n      <td>0</td>\n    </tr>\n    <tr>\n      <th>3</th>\n      <td>3</td>\n      <td>0</td>\n    </tr>\n    <tr>\n      <th>4</th>\n      <td>4</td>\n      <td>0</td>\n    </tr>\n  </tbody>\n</table>\n</div>",
      "text/plain": "   index  NoSpaceAfter\n0      0             0\n1      1             0\n2      2             0\n3      3             0\n4      4             0"
     },
     "execution_count": 10,
     "metadata": {},
     "output_type": "execute_result"
    }
   ],
   "source": [
    "#Reading sentences csv \r\n",
    "file_path = \"Sentences.csv\"\r\n",
    "sentence_df = pd.read_csv(file_path, encoding=\"utf-8\")\r\n",
    "sentence_df.dropna(inplace=True)\r\n",
    "sentence_df.drop(columns='id', inplace=True)\r\n",
    "sentence_df.reset_index(inplace=True)\r\n",
    "sentence_df.head()"
   ]
  },
  {
   "cell_type": "code",
   "execution_count": 11,
   "metadata": {},
   "outputs": [
    {
     "data": {
      "text/html": "<div>\n<style scoped>\n    .dataframe tbody tr th:only-of-type {\n        vertical-align: middle;\n    }\n\n    .dataframe tbody tr th {\n        vertical-align: top;\n    }\n\n    .dataframe thead th {\n        text-align: right;\n    }\n</style>\n<table border=\"1\" class=\"dataframe\">\n  <thead>\n    <tr style=\"text-align: right;\">\n      <th></th>\n      <th>form</th>\n      <th>lemma</th>\n      <th>upos</th>\n      <th>xpos</th>\n      <th>feats</th>\n      <th>head</th>\n      <th>Morpheme</th>\n      <th>NoSpaceAfter</th>\n    </tr>\n  </thead>\n  <tbody>\n    <tr>\n      <th>0</th>\n      <td>சென்னை</td>\n      <td>சென்னை</td>\n      <td>N</td>\n      <td>NEN-3SN--</td>\n      <td>{'Cas': 'N', 'Per': '3', 'Num': 'S', 'Gen': 'N'}</td>\n      <td>2</td>\n      <td></td>\n      <td>0</td>\n    </tr>\n    <tr>\n      <th>1</th>\n      <td>அருகே</td>\n      <td>அருகே</td>\n      <td>P</td>\n      <td>PP-------</td>\n      <td>None</td>\n      <td>18</td>\n      <td></td>\n      <td>0</td>\n    </tr>\n    <tr>\n      <th>2</th>\n      <td>ஸ்ரீ</td>\n      <td>ஸ்ரீ</td>\n      <td>N</td>\n      <td>NEN-3SN--</td>\n      <td>{'Cas': 'N', 'Per': '3', 'Num': 'S', 'Gen': 'N'}</td>\n      <td>4</td>\n      <td></td>\n      <td>0</td>\n    </tr>\n    <tr>\n      <th>3</th>\n      <td>பெரும்புதூரில்</td>\n      <td>பெரும்புதூர்</td>\n      <td>N</td>\n      <td>NEL-3SN--</td>\n      <td>{'Cas': 'L', 'Per': '3', 'Num': 'S', 'Gen': 'N'}</td>\n      <td>18</td>\n      <td>ில்</td>\n      <td>0</td>\n    </tr>\n    <tr>\n      <th>4</th>\n      <td>கிரீன்</td>\n      <td>கிரீன்</td>\n      <td>N</td>\n      <td>NEN-3SN--</td>\n      <td>{'Cas': 'N', 'Per': '3', 'Num': 'S', 'Gen': 'N'}</td>\n      <td>6</td>\n      <td></td>\n      <td>0</td>\n    </tr>\n  </tbody>\n</table>\n</div>",
      "text/plain": "             form         lemma upos       xpos  \\\n0          சென்னை        சென்னை    N  NEN-3SN--   \n1           அருகே         அருகே    P  PP-------   \n2            ஸ்ரீ          ஸ்ரீ    N  NEN-3SN--   \n3  பெரும்புதூரில்  பெரும்புதூர்    N  NEL-3SN--   \n4          கிரீன்        கிரீன்    N  NEN-3SN--   \n\n                                              feats head Morpheme  \\\n0  {'Cas': 'N', 'Per': '3', 'Num': 'S', 'Gen': 'N'}    2            \n1                                              None   18            \n2  {'Cas': 'N', 'Per': '3', 'Num': 'S', 'Gen': 'N'}    4            \n3  {'Cas': 'L', 'Per': '3', 'Num': 'S', 'Gen': 'N'}   18      ில்   \n4  {'Cas': 'N', 'Per': '3', 'Num': 'S', 'Gen': 'N'}    6            \n\n   NoSpaceAfter  \n0             0  \n1             0  \n2             0  \n3             0  \n4             0  "
     },
     "execution_count": 11,
     "metadata": {},
     "output_type": "execute_result"
    }
   ],
   "source": [
    "#Adding NoSpaceAfter column to dataframe. The 'no_space_after' will be set to 1 if the following token is part of the current token.\r\n",
    "#Whenever the splitting takes place this attribute will be set to 1 for the first token.\r\n",
    "#For example, The 'no_space_after' attribute for pATukAkkap  will be 1. Whereas the 'no_space_after' attribute for um will be 0.  \r\n",
    "df['NoSpaceAfter'] = sentence_df['NoSpaceAfter']\r\n",
    "df.head()"
   ]
  },
  {
   "cell_type": "code",
   "execution_count": 12,
   "metadata": {},
   "outputs": [],
   "source": [
    "#Adding postpositions and clitics to morpheme list\r\n",
    "for i in range(0, len(df)):\r\n",
    "    if df.loc[i,'NoSpaceAfter']==1:\r\n",
    "        df.loc[i+1, 'Morpheme'] = df.loc[i+1, 'form']\r\n",
    "        df.loc[i+1, 'NoSpaceAfter'] = 2\r\n"
   ]
  },
  {
   "cell_type": "code",
   "execution_count": 13,
   "metadata": {},
   "outputs": [],
   "source": [
    "#Removing everything expect nouns and verbs\r\n",
    "for index, row in df.iterrows():\r\n",
    "    if (row[\"upos\"] != 'N') and (row[\"upos\"] != 'V') and (row['NoSpaceAfter'] != 2):\r\n",
    "        df.drop(index, inplace = True)\r\n",
    "\r\n",
    "        "
   ]
  },
  {
   "cell_type": "code",
   "execution_count": 14,
   "metadata": {},
   "outputs": [
    {
     "name": "stderr",
     "output_type": "stream",
     "text": [
      "<ipython-input-14-21c1df5d6f05>:5: SettingWithCopyWarning: \n",
      "A value is trying to be set on a copy of a slice from a DataFrame\n",
      "\n",
      "See the caveats in the documentation: https://pandas.pydata.org/pandas-docs/stable/user_guide/indexing.html#returning-a-view-versus-a-copy\n",
      "  value_counts_df[\"Counts\"][0]=0\n"
     ]
    },
    {
     "data": {
      "text/html": "<div>\n<style scoped>\n    .dataframe tbody tr th:only-of-type {\n        vertical-align: middle;\n    }\n\n    .dataframe tbody tr th {\n        vertical-align: top;\n    }\n\n    .dataframe thead th {\n        text-align: right;\n    }\n</style>\n<table border=\"1\" class=\"dataframe\">\n  <thead>\n    <tr style=\"text-align: right;\">\n      <th></th>\n      <th>Morpheme</th>\n      <th>Counts</th>\n    </tr>\n  </thead>\n  <tbody>\n    <tr>\n      <th>0</th>\n      <td></td>\n      <td>0</td>\n    </tr>\n    <tr>\n      <th>1</th>\n      <td>கள்</td>\n      <td>210</td>\n    </tr>\n    <tr>\n      <th>2</th>\n      <td>உம்</td>\n      <td>209</td>\n    </tr>\n    <tr>\n      <th>3</th>\n      <td>யில்</td>\n      <td>155</td>\n    </tr>\n    <tr>\n      <th>4</th>\n      <td>ஆக</td>\n      <td>127</td>\n    </tr>\n    <tr>\n      <th>...</th>\n      <td>...</td>\n      <td>...</td>\n    </tr>\n    <tr>\n      <th>434</th>\n      <td>றகும்</td>\n      <td>1</td>\n    </tr>\n    <tr>\n      <th>435</th>\n      <td>ியதைப்</td>\n      <td>1</td>\n    </tr>\n    <tr>\n      <th>436</th>\n      <td>ளதைய்</td>\n      <td>1</td>\n    </tr>\n    <tr>\n      <th>437</th>\n      <td>டகவ்</td>\n      <td>1</td>\n    </tr>\n    <tr>\n      <th>438</th>\n      <td>ப்பதால்</td>\n      <td>1</td>\n    </tr>\n  </tbody>\n</table>\n<p>439 rows × 2 columns</p>\n</div>",
      "text/plain": "    Morpheme  Counts\n0                  0\n1        கள்     210\n2        உம்     209\n3       யில்     155\n4         ஆக     127\n..       ...     ...\n434    றகும்       1\n435   ியதைப்       1\n436    ளதைய்       1\n437     டகவ்       1\n438  ப்பதால்       1\n\n[439 rows x 2 columns]"
     },
     "execution_count": 14,
     "metadata": {},
     "output_type": "execute_result"
    }
   ],
   "source": [
    "#Creating dataframe out of the frequencies of the morphemes\r\n",
    "value_counts_df = pd.DataFrame(df[\"Morpheme\"].value_counts())\r\n",
    "value_counts_df.reset_index(inplace=True)\r\n",
    "value_counts_df = value_counts_df.rename(columns = {'index':'Morpheme', 'Morpheme':'Counts'})\r\n",
    "value_counts_df[\"Counts\"][0]=0\r\n",
    "value_counts_df.head()"
   ]
  },
  {
   "cell_type": "code",
   "execution_count": 15,
   "metadata": {},
   "outputs": [
    {
     "data": {
      "text/html": "<div>\n<style scoped>\n    .dataframe tbody tr th:only-of-type {\n        vertical-align: middle;\n    }\n\n    .dataframe tbody tr th {\n        vertical-align: top;\n    }\n\n    .dataframe thead th {\n        text-align: right;\n    }\n</style>\n<table border=\"1\" class=\"dataframe\">\n  <thead>\n    <tr style=\"text-align: right;\">\n      <th></th>\n      <th>form</th>\n      <th>lemma</th>\n      <th>upos</th>\n      <th>xpos</th>\n      <th>feats</th>\n      <th>head</th>\n      <th>Morpheme</th>\n      <th>NoSpaceAfter</th>\n      <th>Counts</th>\n    </tr>\n  </thead>\n  <tbody>\n    <tr>\n      <th>0</th>\n      <td>சென்னை</td>\n      <td>சென்னை</td>\n      <td>N</td>\n      <td>NEN-3SN--</td>\n      <td>{'Cas': 'N', 'Per': '3', 'Num': 'S', 'Gen': 'N'}</td>\n      <td>2</td>\n      <td></td>\n      <td>0</td>\n      <td>0</td>\n    </tr>\n    <tr>\n      <th>1</th>\n      <td>ஸ்ரீ</td>\n      <td>ஸ்ரீ</td>\n      <td>N</td>\n      <td>NEN-3SN--</td>\n      <td>{'Cas': 'N', 'Per': '3', 'Num': 'S', 'Gen': 'N'}</td>\n      <td>4</td>\n      <td></td>\n      <td>0</td>\n      <td>0</td>\n    </tr>\n    <tr>\n      <th>2</th>\n      <td>பெரும்புதூரில்</td>\n      <td>பெரும்புதூர்</td>\n      <td>N</td>\n      <td>NEL-3SN--</td>\n      <td>{'Cas': 'L', 'Per': '3', 'Num': 'S', 'Gen': 'N'}</td>\n      <td>18</td>\n      <td>ில்</td>\n      <td>0</td>\n      <td>111</td>\n    </tr>\n    <tr>\n      <th>3</th>\n      <td>கிரீன்</td>\n      <td>கிரீன்</td>\n      <td>N</td>\n      <td>NEN-3SN--</td>\n      <td>{'Cas': 'N', 'Per': '3', 'Num': 'S', 'Gen': 'N'}</td>\n      <td>6</td>\n      <td></td>\n      <td>0</td>\n      <td>0</td>\n    </tr>\n    <tr>\n      <th>4</th>\n      <td>பீல்டு</td>\n      <td>பீல்டு</td>\n      <td>N</td>\n      <td>NEN-3SN--</td>\n      <td>{'Cas': 'N', 'Per': '3', 'Num': 'S', 'Gen': 'N'}</td>\n      <td>11</td>\n      <td></td>\n      <td>0</td>\n      <td>0</td>\n    </tr>\n  </tbody>\n</table>\n</div>",
      "text/plain": "             form         lemma upos       xpos  \\\n0          சென்னை        சென்னை    N  NEN-3SN--   \n1            ஸ்ரீ          ஸ்ரீ    N  NEN-3SN--   \n2  பெரும்புதூரில்  பெரும்புதூர்    N  NEL-3SN--   \n3          கிரீன்        கிரீன்    N  NEN-3SN--   \n4          பீல்டு        பீல்டு    N  NEN-3SN--   \n\n                                              feats head Morpheme  \\\n0  {'Cas': 'N', 'Per': '3', 'Num': 'S', 'Gen': 'N'}    2            \n1  {'Cas': 'N', 'Per': '3', 'Num': 'S', 'Gen': 'N'}    4            \n2  {'Cas': 'L', 'Per': '3', 'Num': 'S', 'Gen': 'N'}   18      ில்   \n3  {'Cas': 'N', 'Per': '3', 'Num': 'S', 'Gen': 'N'}    6            \n4  {'Cas': 'N', 'Per': '3', 'Num': 'S', 'Gen': 'N'}   11            \n\n   NoSpaceAfter  Counts  \n0             0       0  \n1             0       0  \n2             0     111  \n3             0       0  \n4             0       0  "
     },
     "execution_count": 15,
     "metadata": {},
     "output_type": "execute_result"
    }
   ],
   "source": [
    "#Merging value counts with the original dataframe\r\n",
    "merged_df = pd.merge(df, value_counts_df, on=\"Morpheme\", how = \"left\")\r\n",
    "merged_df.head()"
   ]
  },
  {
   "cell_type": "code",
   "execution_count": 16,
   "metadata": {},
   "outputs": [],
   "source": [
    "# Removing all the blank morpheme rows\r\n",
    "for index, row in merged_df.iterrows():\r\n",
    "    if row[\"Morpheme\"] == '':\r\n",
    "        merged_df.drop(index, inplace = True)\r\n"
   ]
  },
  {
   "cell_type": "code",
   "execution_count": 17,
   "metadata": {},
   "outputs": [
    {
     "data": {
      "text/html": "<div>\n<style scoped>\n    .dataframe tbody tr th:only-of-type {\n        vertical-align: middle;\n    }\n\n    .dataframe tbody tr th {\n        vertical-align: top;\n    }\n\n    .dataframe thead th {\n        text-align: right;\n    }\n</style>\n<table border=\"1\" class=\"dataframe\">\n  <thead>\n    <tr style=\"text-align: right;\">\n      <th></th>\n      <th>form</th>\n      <th>lemma</th>\n      <th>upos</th>\n      <th>xpos</th>\n      <th>feats</th>\n      <th>head</th>\n      <th>Morpheme</th>\n      <th>NoSpaceAfter</th>\n      <th>Counts</th>\n    </tr>\n  </thead>\n  <tbody>\n    <tr>\n      <th>2</th>\n      <td>பெரும்புதூரில்</td>\n      <td>பெரும்புதூர்</td>\n      <td>N</td>\n      <td>NEL-3SN--</td>\n      <td>{'Cas': 'L', 'Per': '3', 'Num': 'S', 'Gen': 'N'}</td>\n      <td>18</td>\n      <td>ில்</td>\n      <td>0</td>\n      <td>111</td>\n    </tr>\n    <tr>\n      <th>6</th>\n      <td>நிலையத்துக்குக்க்</td>\n      <td>நிலையம்</td>\n      <td>N</td>\n      <td>NND-3SN--</td>\n      <td>{'Cas': 'D', 'Per': '3', 'Num': 'S', 'Gen': 'N'}</td>\n      <td>12</td>\n      <td>ததுக்குக்க்</td>\n      <td>1</td>\n      <td>1</td>\n    </tr>\n    <tr>\n      <th>7</th>\n      <td>ஆன</td>\n      <td>ஆகு</td>\n      <td>T</td>\n      <td>Tg-------</td>\n      <td>None</td>\n      <td>13</td>\n      <td>ஆன</td>\n      <td>2</td>\n      <td>61</td>\n    </tr>\n    <tr>\n      <th>10</th>\n      <td>வகையில்</td>\n      <td>வகை</td>\n      <td>N</td>\n      <td>NNL-3SN--</td>\n      <td>{'Cas': 'L', 'Per': '3', 'Num': 'S', 'Gen': 'N'}</td>\n      <td>18</td>\n      <td>யில்</td>\n      <td>0</td>\n      <td>155</td>\n    </tr>\n    <tr>\n      <th>11</th>\n      <td>எடுக்கப்</td>\n      <td>எடு</td>\n      <td>V</td>\n      <td>Vu-T---AA</td>\n      <td>{'Ten': 'T', 'Voi': 'A', 'Neg': 'A'}</td>\n      <td>20</td>\n      <td>க்கப்</td>\n      <td>0</td>\n      <td>69</td>\n    </tr>\n  </tbody>\n</table>\n</div>",
      "text/plain": "                 form         lemma upos       xpos  \\\n2      பெரும்புதூரில்  பெரும்புதூர்    N  NEL-3SN--   \n6   நிலையத்துக்குக்க்       நிலையம்    N  NND-3SN--   \n7                  ஆன           ஆகு    T  Tg-------   \n10            வகையில்           வகை    N  NNL-3SN--   \n11           எடுக்கப்           எடு    V  Vu-T---AA   \n\n                                               feats head     Morpheme  \\\n2   {'Cas': 'L', 'Per': '3', 'Num': 'S', 'Gen': 'N'}   18          ில்   \n6   {'Cas': 'D', 'Per': '3', 'Num': 'S', 'Gen': 'N'}   12  ததுக்குக்க்   \n7                                               None   13           ஆன   \n10  {'Cas': 'L', 'Per': '3', 'Num': 'S', 'Gen': 'N'}   18         யில்   \n11              {'Ten': 'T', 'Voi': 'A', 'Neg': 'A'}   20        க்கப்   \n\n    NoSpaceAfter  Counts  \n2              0     111  \n6              1       1  \n7              2      61  \n10             0     155  \n11             0      69  "
     },
     "execution_count": 17,
     "metadata": {},
     "output_type": "execute_result"
    }
   ],
   "source": [
    "merged_df.head()"
   ]
  },
  {
   "cell_type": "code",
   "execution_count": 18,
   "metadata": {},
   "outputs": [
    {
     "data": {
      "text/html": "<div>\n<style scoped>\n    .dataframe tbody tr th:only-of-type {\n        vertical-align: middle;\n    }\n\n    .dataframe tbody tr th {\n        vertical-align: top;\n    }\n\n    .dataframe thead th {\n        text-align: right;\n    }\n</style>\n<table border=\"1\" class=\"dataframe\">\n  <thead>\n    <tr style=\"text-align: right;\">\n      <th></th>\n      <th>Morpheme</th>\n      <th>Counts</th>\n      <th>upos</th>\n      <th>NoSpaceAfter</th>\n    </tr>\n  </thead>\n  <tbody>\n    <tr>\n      <th>130</th>\n      <td>கள்</td>\n      <td>210</td>\n      <td>N</td>\n      <td>1</td>\n    </tr>\n    <tr>\n      <th>172</th>\n      <td>கள்</td>\n      <td>210</td>\n      <td>N</td>\n      <td>0</td>\n    </tr>\n    <tr>\n      <th>30</th>\n      <td>உம்</td>\n      <td>209</td>\n      <td>T</td>\n      <td>2</td>\n    </tr>\n    <tr>\n      <th>10</th>\n      <td>யில்</td>\n      <td>155</td>\n      <td>N</td>\n      <td>0</td>\n    </tr>\n    <tr>\n      <th>653</th>\n      <td>யில்</td>\n      <td>155</td>\n      <td>N</td>\n      <td>1</td>\n    </tr>\n    <tr>\n      <th>...</th>\n      <td>...</td>\n      <td>...</td>\n      <td>...</td>\n      <td>...</td>\n    </tr>\n    <tr>\n      <th>2644</th>\n      <td>ததைச்</td>\n      <td>1</td>\n      <td>N</td>\n      <td>0</td>\n    </tr>\n    <tr>\n      <th>2651</th>\n      <td>வைப்</td>\n      <td>1</td>\n      <td>N</td>\n      <td>0</td>\n    </tr>\n    <tr>\n      <th>2654</th>\n      <td>டடுக்கொள்கிறேன்</td>\n      <td>1</td>\n      <td>V</td>\n      <td>0</td>\n    </tr>\n    <tr>\n      <th>2696</th>\n      <td>டுத்தாது</td>\n      <td>1</td>\n      <td>V</td>\n      <td>0</td>\n    </tr>\n    <tr>\n      <th>6484</th>\n      <td>விட</td>\n      <td>1</td>\n      <td>V</td>\n      <td>2</td>\n    </tr>\n  </tbody>\n</table>\n<p>474 rows × 4 columns</p>\n</div>",
      "text/plain": "             Morpheme  Counts upos  NoSpaceAfter\n130               கள்     210    N             1\n172               கள்     210    N             0\n30                உம்     209    T             2\n10               யில்     155    N             0\n653              யில்     155    N             1\n...               ...     ...  ...           ...\n2644            ததைச்       1    N             0\n2651             வைப்       1    N             0\n2654  டடுக்கொள்கிறேன்       1    V             0\n2696         டுத்தாது       1    V             0\n6484              விட       1    V             2\n\n[474 rows x 4 columns]"
     },
     "execution_count": 18,
     "metadata": {},
     "output_type": "execute_result"
    }
   ],
   "source": [
    "#Cleaning up to only get the noun and verb morphemes along with their value counts\r\n",
    "columns = ['Morpheme', 'Counts','upos', 'NoSpaceAfter']\r\n",
    "adjusted_morpheme_df = pd.DataFrame(columns = columns)\r\n",
    "adjusted_morpheme_df[\"Morpheme\"] = merged_df[\"Morpheme\"]\r\n",
    "adjusted_morpheme_df[\"Counts\"] = merged_df[\"Counts\"]\r\n",
    "adjusted_morpheme_df[\"upos\"] = merged_df[\"upos\"]\r\n",
    "adjusted_morpheme_df[\"NoSpaceAfter\"] = merged_df[\"NoSpaceAfter\"]\r\n",
    "adjusted_morpheme_df = adjusted_morpheme_df.drop_duplicates(subset = ['Morpheme', 'NoSpaceAfter', 'Counts'])\r\n",
    "adjusted_morpheme_df = adjusted_morpheme_df.sort_values(by='Counts', ascending=False)\r\n",
    "adjusted_morpheme_df.head()"
   ]
  },
  {
   "cell_type": "code",
   "execution_count": 19,
   "metadata": {},
   "outputs": [
    {
     "data": {
      "text/html": "<div>\n<style scoped>\n    .dataframe tbody tr th:only-of-type {\n        vertical-align: middle;\n    }\n\n    .dataframe tbody tr th {\n        vertical-align: top;\n    }\n\n    .dataframe thead th {\n        text-align: right;\n    }\n</style>\n<table border=\"1\" class=\"dataframe\">\n  <thead>\n    <tr style=\"text-align: right;\">\n      <th></th>\n      <th>Morpheme</th>\n      <th>Counts</th>\n      <th>upos</th>\n      <th>NoSpaceAfter</th>\n    </tr>\n  </thead>\n  <tbody>\n    <tr>\n      <th>30</th>\n      <td>உம்</td>\n      <td>209</td>\n      <td>T</td>\n      <td>2</td>\n    </tr>\n    <tr>\n      <th>131</th>\n      <td>ஆக</td>\n      <td>127</td>\n      <td>P</td>\n      <td>2</td>\n    </tr>\n    <tr>\n      <th>7</th>\n      <td>ஆன</td>\n      <td>61</td>\n      <td>T</td>\n      <td>2</td>\n    </tr>\n    <tr>\n      <th>358</th>\n      <td>பட்ட்</td>\n      <td>52</td>\n      <td>V</td>\n      <td>2</td>\n    </tr>\n    <tr>\n      <th>235</th>\n      <td>உள்ளது</td>\n      <td>47</td>\n      <td>V</td>\n      <td>2</td>\n    </tr>\n    <tr>\n      <th>...</th>\n      <td>...</td>\n      <td>...</td>\n      <td>...</td>\n      <td>...</td>\n    </tr>\n    <tr>\n      <th>3619</th>\n      <td>ஆகியதால்</td>\n      <td>1</td>\n      <td>V</td>\n      <td>2</td>\n    </tr>\n    <tr>\n      <th>2289</th>\n      <td>நிலையில்</td>\n      <td>1</td>\n      <td>N</td>\n      <td>2</td>\n    </tr>\n    <tr>\n      <th>2530</th>\n      <td>இருப்பத்</td>\n      <td>1</td>\n      <td>V</td>\n      <td>2</td>\n    </tr>\n    <tr>\n      <th>121</th>\n      <td>பகுதியில்</td>\n      <td>1</td>\n      <td>N</td>\n      <td>2</td>\n    </tr>\n    <tr>\n      <th>6484</th>\n      <td>விட</td>\n      <td>1</td>\n      <td>V</td>\n      <td>2</td>\n    </tr>\n  </tbody>\n</table>\n<p>62 rows × 4 columns</p>\n</div>",
      "text/plain": "       Morpheme  Counts upos  NoSpaceAfter\n30          உம்     209    T             2\n131          ஆக     127    P             2\n7            ஆன      61    T             2\n358       பட்ட்      52    V             2\n235      உள்ளது      47    V             2\n...         ...     ...  ...           ...\n3619   ஆகியதால்       1    V             2\n2289   நிலையில்       1    N             2\n2530   இருப்பத்       1    V             2\n121   பகுதியில்       1    N             2\n6484        விட       1    V             2\n\n[62 rows x 4 columns]"
     },
     "execution_count": 19,
     "metadata": {},
     "output_type": "execute_result"
    }
   ],
   "source": [
    "# Making postpositions/clitics morpheme list\r\n",
    "clitic_df = adjusted_morpheme_df[adjusted_morpheme_df['NoSpaceAfter']==2]\r\n",
    "clitic_df.head()"
   ]
  },
  {
   "cell_type": "code",
   "execution_count": 31,
   "metadata": {},
   "outputs": [
    {
     "data": {
      "text/html": "<div>\n<style scoped>\n    .dataframe tbody tr th:only-of-type {\n        vertical-align: middle;\n    }\n\n    .dataframe tbody tr th {\n        vertical-align: top;\n    }\n\n    .dataframe thead th {\n        text-align: right;\n    }\n</style>\n<table border=\"1\" class=\"dataframe\">\n  <thead>\n    <tr style=\"text-align: right;\">\n      <th></th>\n      <th>Morpheme</th>\n      <th>Counts</th>\n      <th>upos</th>\n      <th>NoSpaceAfter</th>\n    </tr>\n  </thead>\n  <tbody>\n    <tr>\n      <th>130</th>\n      <td>கள்</td>\n      <td>210</td>\n      <td>N</td>\n      <td>1</td>\n    </tr>\n    <tr>\n      <th>172</th>\n      <td>கள்</td>\n      <td>210</td>\n      <td>N</td>\n      <td>0</td>\n    </tr>\n    <tr>\n      <th>10</th>\n      <td>யில்</td>\n      <td>155</td>\n      <td>N</td>\n      <td>0</td>\n    </tr>\n    <tr>\n      <th>653</th>\n      <td>யில்</td>\n      <td>155</td>\n      <td>N</td>\n      <td>1</td>\n    </tr>\n    <tr>\n      <th>2</th>\n      <td>ில்</td>\n      <td>111</td>\n      <td>N</td>\n      <td>0</td>\n    </tr>\n  </tbody>\n</table>\n</div>",
      "text/plain": "    Morpheme  Counts upos  NoSpaceAfter\n130      கள்     210    N             1\n172      கள்     210    N             0\n10      யில்     155    N             0\n653     யில்     155    N             1\n2        ில்     111    N             0"
     },
     "execution_count": 31,
     "metadata": {},
     "output_type": "execute_result"
    }
   ],
   "source": [
    "#Word list rxcluding postpostions\r\n",
    "root_df = adjusted_morpheme_df[adjusted_morpheme_df['NoSpaceAfter']<2]\r\n",
    "root_df.head()"
   ]
  },
  {
   "cell_type": "code",
   "execution_count": 35,
   "metadata": {},
   "outputs": [],
   "source": [
    "no_repeat_df = root_df.drop_duplicates(subset = ['Morpheme'])\r\n"
   ]
  },
  {
   "cell_type": "code",
   "execution_count": null,
   "metadata": {},
   "outputs": [],
   "source": []
  }
 ],
 "metadata": {
  "kernelspec": {
   "display_name": "Python 3.8.5 64-bit (conda)",
   "name": "python385jvsc74a57bd0acf47b83519c56191d0c3841e12beeb775e3446d2e4f4edc07386d3a55ce7a5e"
  },
  "language_info": {
   "codemirror_mode": {
    "name": "ipython",
    "version": 3
   },
   "file_extension": ".py",
   "mimetype": "text/x-python",
   "name": "python",
   "nbconvert_exporter": "python",
   "pygments_lexer": "ipython3",
   "version": "3.8.5"
  },
  "metadata": {
   "interpreter": {
    "hash": "f5d60b673bbbc194a180925bc8001f1badeda51edade5ea1395c8bd32b859e19"
   }
  }
 },
 "nbformat": 4,
 "nbformat_minor": 2
}