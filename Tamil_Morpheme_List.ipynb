{
 "cells": [
  {
   "cell_type": "code",
   "execution_count": 2,
   "metadata": {},
   "outputs": [],
   "source": [
    "#my reference: https://pypi.org/project/conllu/"
   ]
  },
  {
   "cell_type": "code",
   "execution_count": 3,
   "metadata": {},
   "outputs": [],
   "source": [
    "from io import open\r\n",
    "from conllu import parse_tree_incr\r\n",
    "from conllu import parse_incr\r\n",
    "from conllu import parse\r\n",
    "from collections import OrderedDict\r\n",
    "import pandas as pd\r\n",
    "import itertools\r\n",
    "import re"
   ]
  },
  {
   "cell_type": "code",
   "execution_count": 4,
   "metadata": {},
   "outputs": [],
   "source": [
    "file = 'TamilTB.v0.1\\data\\TamilTB.v0.1.utf8.conll'\r\n",
    "data_file = open(file, \"r\", encoding=\"utf-8\")\r\n"
   ]
  },
  {
   "cell_type": "code",
   "execution_count": 5,
   "metadata": {},
   "outputs": [],
   "source": [
    "#Setting precision of dataframe as 0\r\n",
    "pd.set_option('precision', 0)\r\n",
    "\r\n",
    "#Setting Dataframe display to max\r\n",
    "pd.set_option('display.max_rows', None)"
   ]
  },
  {
   "cell_type": "code",
   "execution_count": 6,
   "metadata": {},
   "outputs": [
    {
     "data": {
      "text/html": "<div>\n<style scoped>\n    .dataframe tbody tr th:only-of-type {\n        vertical-align: middle;\n    }\n\n    .dataframe tbody tr th {\n        vertical-align: top;\n    }\n\n    .dataframe thead th {\n        text-align: right;\n    }\n</style>\n<table border=\"1\" class=\"dataframe\">\n  <thead>\n    <tr style=\"text-align: right;\">\n      <th></th>\n      <th>id</th>\n      <th>form</th>\n      <th>lemma</th>\n      <th>upos</th>\n      <th>xpos</th>\n      <th>feats</th>\n      <th>head</th>\n      <th>Morpheme</th>\n    </tr>\n  </thead>\n  <tbody>\n    <tr>\n      <th>0</th>\n      <td>1</td>\n      <td>சென்னை</td>\n      <td>சென்னை</td>\n      <td>N</td>\n      <td>NEN-3SN--</td>\n      <td>{'Cas': 'N', 'Per': '3', 'Num': 'S', 'Gen': 'N'}</td>\n      <td>2</td>\n      <td>NaN</td>\n    </tr>\n    <tr>\n      <th>1</th>\n      <td>2</td>\n      <td>அருகே</td>\n      <td>அருகே</td>\n      <td>P</td>\n      <td>PP-------</td>\n      <td>None</td>\n      <td>18</td>\n      <td>NaN</td>\n    </tr>\n    <tr>\n      <th>2</th>\n      <td>3</td>\n      <td>ஸ்ரீ</td>\n      <td>ஸ்ரீ</td>\n      <td>N</td>\n      <td>NEN-3SN--</td>\n      <td>{'Cas': 'N', 'Per': '3', 'Num': 'S', 'Gen': 'N'}</td>\n      <td>4</td>\n      <td>NaN</td>\n    </tr>\n    <tr>\n      <th>3</th>\n      <td>4</td>\n      <td>பெரும்புதூரில்</td>\n      <td>பெரும்புதூர்</td>\n      <td>N</td>\n      <td>NEL-3SN--</td>\n      <td>{'Cas': 'L', 'Per': '3', 'Num': 'S', 'Gen': 'N'}</td>\n      <td>18</td>\n      <td>NaN</td>\n    </tr>\n    <tr>\n      <th>4</th>\n      <td>5</td>\n      <td>கிரீன்</td>\n      <td>கிரீன்</td>\n      <td>N</td>\n      <td>NEN-3SN--</td>\n      <td>{'Cas': 'N', 'Per': '3', 'Num': 'S', 'Gen': 'N'}</td>\n      <td>6</td>\n      <td>NaN</td>\n    </tr>\n  </tbody>\n</table>\n</div>",
      "text/plain": "  id            form         lemma upos       xpos  \\\n0  1          சென்னை        சென்னை    N  NEN-3SN--   \n1  2           அருகே         அருகே    P  PP-------   \n2  3            ஸ்ரீ          ஸ்ரீ    N  NEN-3SN--   \n3  4  பெரும்புதூரில்  பெரும்புதூர்    N  NEL-3SN--   \n4  5          கிரீன்        கிரீன்    N  NEN-3SN--   \n\n                                              feats head Morpheme  \n0  {'Cas': 'N', 'Per': '3', 'Num': 'S', 'Gen': 'N'}    2      NaN  \n1                                              None   18      NaN  \n2  {'Cas': 'N', 'Per': '3', 'Num': 'S', 'Gen': 'N'}    4      NaN  \n3  {'Cas': 'L', 'Per': '3', 'Num': 'S', 'Gen': 'N'}   18      NaN  \n4  {'Cas': 'N', 'Per': '3', 'Num': 'S', 'Gen': 'N'}    6      NaN  "
     },
     "execution_count": 6,
     "metadata": {},
     "output_type": "execute_result"
    }
   ],
   "source": [
    "#Converting conll to a dataframe\r\n",
    "columns = ['id', 'form', 'lemma', 'upos', 'xpos', 'feats', 'head', 'Morpheme']\r\n",
    "df = pd.DataFrame(columns = columns)\r\n",
    "for tokenlist in parse_incr(data_file):\r\n",
    "    for word in tokenlist:\r\n",
    "        df = df.append({'id': word[\"id\"], \r\n",
    "                        'form' : word[\"form\"],\r\n",
    "                        'lemma' : word[\"lemma\"],\r\n",
    "                        'upos' : word[\"upos\"],\r\n",
    "                        'xpos' : word[\"xpos\"],\r\n",
    "                        'feats' : word[\"feats\"],\r\n",
    "                        'head' : word[\"head\"]},\r\n",
    "                        ignore_index = True\r\n",
    "                        )\r\n",
    "df.head()"
   ]
  },
  {
   "cell_type": "code",
   "execution_count": 7,
   "metadata": {},
   "outputs": [],
   "source": [
    "#Function to extract the morphemes by stripping away the lemma\r\n",
    "def morpheme_extract(lemmalist, wordlist):\r\n",
    "    if len(lemmalist)<len(wordlist):\r\n",
    "        for i in range(len(lemmalist)):\r\n",
    "            if (wordlist[i] != lemmalist[i]):\r\n",
    "                difference.append(wordlist[i])\r\n",
    "        index = i\r\n",
    "        for i in range(len(wordlist)):\r\n",
    "            if i > index:\r\n",
    "                difference.append(wordlist[i])\r\n",
    "                morpheme = ''.join(difference)\r\n",
    "                row[\"Morpheme\"] = morpheme\r\n",
    "    else:\r\n",
    "        row[\"Morpheme\"] = \"\"\r\n"
   ]
  },
  {
   "cell_type": "code",
   "execution_count": 8,
   "metadata": {},
   "outputs": [],
   "source": [
    "# Going through each row in the dataframe and calling the function to strip away the morphemes\r\n",
    "for index, row in df.iterrows():\r\n",
    "    word = row[\"form\"]\r\n",
    "    wordlist = [ch for ch in word] \r\n",
    "    lemma = row[\"lemma\"]\r\n",
    "    lemmalist = [ch for ch in lemma] \r\n",
    "    difference = []\r\n",
    "    morpheme_extract(lemmalist, wordlist)\r\n",
    "    difference[:5]"
   ]
  },
  {
   "cell_type": "code",
   "execution_count": 9,
   "metadata": {},
   "outputs": [
    {
     "data": {
      "text/html": "<div>\n<style scoped>\n    .dataframe tbody tr th:only-of-type {\n        vertical-align: middle;\n    }\n\n    .dataframe tbody tr th {\n        vertical-align: top;\n    }\n\n    .dataframe thead th {\n        text-align: right;\n    }\n</style>\n<table border=\"1\" class=\"dataframe\">\n  <thead>\n    <tr style=\"text-align: right;\">\n      <th></th>\n      <th>id</th>\n      <th>form</th>\n      <th>lemma</th>\n      <th>upos</th>\n      <th>xpos</th>\n      <th>feats</th>\n      <th>head</th>\n      <th>Morpheme</th>\n    </tr>\n  </thead>\n  <tbody>\n    <tr>\n      <th>0</th>\n      <td>1</td>\n      <td>சென்னை</td>\n      <td>சென்னை</td>\n      <td>N</td>\n      <td>NEN-3SN--</td>\n      <td>{'Cas': 'N', 'Per': '3', 'Num': 'S', 'Gen': 'N'}</td>\n      <td>2</td>\n      <td></td>\n    </tr>\n    <tr>\n      <th>1</th>\n      <td>2</td>\n      <td>அருகே</td>\n      <td>அருகே</td>\n      <td>P</td>\n      <td>PP-------</td>\n      <td>None</td>\n      <td>18</td>\n      <td></td>\n    </tr>\n    <tr>\n      <th>2</th>\n      <td>3</td>\n      <td>ஸ்ரீ</td>\n      <td>ஸ்ரீ</td>\n      <td>N</td>\n      <td>NEN-3SN--</td>\n      <td>{'Cas': 'N', 'Per': '3', 'Num': 'S', 'Gen': 'N'}</td>\n      <td>4</td>\n      <td></td>\n    </tr>\n    <tr>\n      <th>3</th>\n      <td>4</td>\n      <td>பெரும்புதூரில்</td>\n      <td>பெரும்புதூர்</td>\n      <td>N</td>\n      <td>NEL-3SN--</td>\n      <td>{'Cas': 'L', 'Per': '3', 'Num': 'S', 'Gen': 'N'}</td>\n      <td>18</td>\n      <td>ில்</td>\n    </tr>\n    <tr>\n      <th>4</th>\n      <td>5</td>\n      <td>கிரீன்</td>\n      <td>கிரீன்</td>\n      <td>N</td>\n      <td>NEN-3SN--</td>\n      <td>{'Cas': 'N', 'Per': '3', 'Num': 'S', 'Gen': 'N'}</td>\n      <td>6</td>\n      <td></td>\n    </tr>\n  </tbody>\n</table>\n</div>",
      "text/plain": "  id            form         lemma upos       xpos  \\\n0  1          சென்னை        சென்னை    N  NEN-3SN--   \n1  2           அருகே         அருகே    P  PP-------   \n2  3            ஸ்ரீ          ஸ்ரீ    N  NEN-3SN--   \n3  4  பெரும்புதூரில்  பெரும்புதூர்    N  NEL-3SN--   \n4  5          கிரீன்        கிரீன்    N  NEN-3SN--   \n\n                                              feats head Morpheme  \n0  {'Cas': 'N', 'Per': '3', 'Num': 'S', 'Gen': 'N'}    2           \n1                                              None   18           \n2  {'Cas': 'N', 'Per': '3', 'Num': 'S', 'Gen': 'N'}    4           \n3  {'Cas': 'L', 'Per': '3', 'Num': 'S', 'Gen': 'N'}   18      ில்  \n4  {'Cas': 'N', 'Per': '3', 'Num': 'S', 'Gen': 'N'}    6           "
     },
     "execution_count": 9,
     "metadata": {},
     "output_type": "execute_result"
    }
   ],
   "source": [
    "df.head()"
   ]
  },
  {
   "cell_type": "code",
   "execution_count": 10,
   "metadata": {},
   "outputs": [
    {
     "data": {
      "text/html": "<div>\n<style scoped>\n    .dataframe tbody tr th:only-of-type {\n        vertical-align: middle;\n    }\n\n    .dataframe tbody tr th {\n        vertical-align: top;\n    }\n\n    .dataframe thead th {\n        text-align: right;\n    }\n</style>\n<table border=\"1\" class=\"dataframe\">\n  <thead>\n    <tr style=\"text-align: right;\">\n      <th></th>\n      <th>form</th>\n      <th>lemma</th>\n      <th>upos</th>\n      <th>xpos</th>\n      <th>feats</th>\n      <th>head</th>\n      <th>Morpheme</th>\n    </tr>\n  </thead>\n  <tbody>\n    <tr>\n      <th>0</th>\n      <td>சென்னை</td>\n      <td>சென்னை</td>\n      <td>N</td>\n      <td>NEN-3SN--</td>\n      <td>{'Cas': 'N', 'Per': '3', 'Num': 'S', 'Gen': 'N'}</td>\n      <td>2</td>\n      <td></td>\n    </tr>\n    <tr>\n      <th>1</th>\n      <td>அருகே</td>\n      <td>அருகே</td>\n      <td>P</td>\n      <td>PP-------</td>\n      <td>None</td>\n      <td>18</td>\n      <td></td>\n    </tr>\n    <tr>\n      <th>2</th>\n      <td>ஸ்ரீ</td>\n      <td>ஸ்ரீ</td>\n      <td>N</td>\n      <td>NEN-3SN--</td>\n      <td>{'Cas': 'N', 'Per': '3', 'Num': 'S', 'Gen': 'N'}</td>\n      <td>4</td>\n      <td></td>\n    </tr>\n    <tr>\n      <th>3</th>\n      <td>பெரும்புதூரில்</td>\n      <td>பெரும்புதூர்</td>\n      <td>N</td>\n      <td>NEL-3SN--</td>\n      <td>{'Cas': 'L', 'Per': '3', 'Num': 'S', 'Gen': 'N'}</td>\n      <td>18</td>\n      <td>ில்</td>\n    </tr>\n    <tr>\n      <th>4</th>\n      <td>கிரீன்</td>\n      <td>கிரீன்</td>\n      <td>N</td>\n      <td>NEN-3SN--</td>\n      <td>{'Cas': 'N', 'Per': '3', 'Num': 'S', 'Gen': 'N'}</td>\n      <td>6</td>\n      <td></td>\n    </tr>\n  </tbody>\n</table>\n</div>",
      "text/plain": "             form         lemma upos       xpos  \\\n0          சென்னை        சென்னை    N  NEN-3SN--   \n1           அருகே         அருகே    P  PP-------   \n2            ஸ்ரீ          ஸ்ரீ    N  NEN-3SN--   \n3  பெரும்புதூரில்  பெரும்புதூர்    N  NEL-3SN--   \n4          கிரீன்        கிரீன்    N  NEN-3SN--   \n\n                                              feats head Morpheme  \n0  {'Cas': 'N', 'Per': '3', 'Num': 'S', 'Gen': 'N'}    2           \n1                                              None   18           \n2  {'Cas': 'N', 'Per': '3', 'Num': 'S', 'Gen': 'N'}    4           \n3  {'Cas': 'L', 'Per': '3', 'Num': 'S', 'Gen': 'N'}   18      ில்  \n4  {'Cas': 'N', 'Per': '3', 'Num': 'S', 'Gen': 'N'}    6           "
     },
     "execution_count": 10,
     "metadata": {},
     "output_type": "execute_result"
    }
   ],
   "source": [
    "#Dropping id column\r\n",
    "df.drop(columns='id', inplace=True)\r\n",
    "df.head()"
   ]
  },
  {
   "cell_type": "code",
   "execution_count": 11,
   "metadata": {},
   "outputs": [
    {
     "data": {
      "text/html": "<div>\n<style scoped>\n    .dataframe tbody tr th:only-of-type {\n        vertical-align: middle;\n    }\n\n    .dataframe tbody tr th {\n        vertical-align: top;\n    }\n\n    .dataframe thead th {\n        text-align: right;\n    }\n</style>\n<table border=\"1\" class=\"dataframe\">\n  <thead>\n    <tr style=\"text-align: right;\">\n      <th></th>\n      <th>index</th>\n      <th>NoSpaceAfter</th>\n    </tr>\n  </thead>\n  <tbody>\n    <tr>\n      <th>0</th>\n      <td>0</td>\n      <td>0</td>\n    </tr>\n    <tr>\n      <th>1</th>\n      <td>1</td>\n      <td>0</td>\n    </tr>\n    <tr>\n      <th>2</th>\n      <td>2</td>\n      <td>0</td>\n    </tr>\n    <tr>\n      <th>3</th>\n      <td>3</td>\n      <td>0</td>\n    </tr>\n    <tr>\n      <th>4</th>\n      <td>4</td>\n      <td>0</td>\n    </tr>\n  </tbody>\n</table>\n</div>",
      "text/plain": "   index  NoSpaceAfter\n0      0             0\n1      1             0\n2      2             0\n3      3             0\n4      4             0"
     },
     "execution_count": 11,
     "metadata": {},
     "output_type": "execute_result"
    }
   ],
   "source": [
    "#Reading sentences csv \r\n",
    "file_path = \"Sentence_index.csv\"\r\n",
    "sentence_df = pd.read_csv(file_path, encoding=\"utf-8\")\r\n",
    "sentence_df.dropna(inplace=True)\r\n",
    "sentence_df.drop(columns='id', inplace=True)\r\n",
    "sentence_df.reset_index(inplace=True)\r\n",
    "sentence_df.head()"
   ]
  },
  {
   "cell_type": "code",
   "execution_count": 12,
   "metadata": {},
   "outputs": [
    {
     "data": {
      "text/html": "<div>\n<style scoped>\n    .dataframe tbody tr th:only-of-type {\n        vertical-align: middle;\n    }\n\n    .dataframe tbody tr th {\n        vertical-align: top;\n    }\n\n    .dataframe thead th {\n        text-align: right;\n    }\n</style>\n<table border=\"1\" class=\"dataframe\">\n  <thead>\n    <tr style=\"text-align: right;\">\n      <th></th>\n      <th>form</th>\n      <th>lemma</th>\n      <th>upos</th>\n      <th>xpos</th>\n      <th>feats</th>\n      <th>head</th>\n      <th>Morpheme</th>\n      <th>NoSpaceAfter</th>\n    </tr>\n  </thead>\n  <tbody>\n    <tr>\n      <th>0</th>\n      <td>சென்னை</td>\n      <td>சென்னை</td>\n      <td>N</td>\n      <td>NEN-3SN--</td>\n      <td>{'Cas': 'N', 'Per': '3', 'Num': 'S', 'Gen': 'N'}</td>\n      <td>2</td>\n      <td></td>\n      <td>0</td>\n    </tr>\n    <tr>\n      <th>1</th>\n      <td>அருகே</td>\n      <td>அருகே</td>\n      <td>P</td>\n      <td>PP-------</td>\n      <td>None</td>\n      <td>18</td>\n      <td></td>\n      <td>0</td>\n    </tr>\n    <tr>\n      <th>2</th>\n      <td>ஸ்ரீ</td>\n      <td>ஸ்ரீ</td>\n      <td>N</td>\n      <td>NEN-3SN--</td>\n      <td>{'Cas': 'N', 'Per': '3', 'Num': 'S', 'Gen': 'N'}</td>\n      <td>4</td>\n      <td></td>\n      <td>0</td>\n    </tr>\n    <tr>\n      <th>3</th>\n      <td>பெரும்புதூரில்</td>\n      <td>பெரும்புதூர்</td>\n      <td>N</td>\n      <td>NEL-3SN--</td>\n      <td>{'Cas': 'L', 'Per': '3', 'Num': 'S', 'Gen': 'N'}</td>\n      <td>18</td>\n      <td>ில்</td>\n      <td>0</td>\n    </tr>\n    <tr>\n      <th>4</th>\n      <td>கிரீன்</td>\n      <td>கிரீன்</td>\n      <td>N</td>\n      <td>NEN-3SN--</td>\n      <td>{'Cas': 'N', 'Per': '3', 'Num': 'S', 'Gen': 'N'}</td>\n      <td>6</td>\n      <td></td>\n      <td>0</td>\n    </tr>\n  </tbody>\n</table>\n</div>",
      "text/plain": "             form         lemma upos       xpos  \\\n0          சென்னை        சென்னை    N  NEN-3SN--   \n1           அருகே         அருகே    P  PP-------   \n2            ஸ்ரீ          ஸ்ரீ    N  NEN-3SN--   \n3  பெரும்புதூரில்  பெரும்புதூர்    N  NEL-3SN--   \n4          கிரீன்        கிரீன்    N  NEN-3SN--   \n\n                                              feats head Morpheme  \\\n0  {'Cas': 'N', 'Per': '3', 'Num': 'S', 'Gen': 'N'}    2            \n1                                              None   18            \n2  {'Cas': 'N', 'Per': '3', 'Num': 'S', 'Gen': 'N'}    4            \n3  {'Cas': 'L', 'Per': '3', 'Num': 'S', 'Gen': 'N'}   18      ில்   \n4  {'Cas': 'N', 'Per': '3', 'Num': 'S', 'Gen': 'N'}    6            \n\n   NoSpaceAfter  \n0             0  \n1             0  \n2             0  \n3             0  \n4             0  "
     },
     "execution_count": 12,
     "metadata": {},
     "output_type": "execute_result"
    }
   ],
   "source": [
    "#Adding NoSpaceAfter column to dataframe. The 'no_space_after' will be set to 1 if the following token is part of the current token.\r\n",
    "#Whenever the splitting takes place this attribute will be set to 1 for the first token.\r\n",
    "#For example, The 'no_space_after' attribute for pATukAkkap  will be 1. Whereas the 'no_space_after' attribute for um will be 0.  \r\n",
    "df['NoSpaceAfter'] = sentence_df['NoSpaceAfter']\r\n",
    "df.head()"
   ]
  },
  {
   "cell_type": "code",
   "execution_count": 13,
   "metadata": {},
   "outputs": [],
   "source": [
    "#Adding postpositions and clitics to morpheme list\r\n",
    "for i in range(0, len(df)):\r\n",
    "    if df.loc[i,'NoSpaceAfter']==1:\r\n",
    "        df.loc[i+1, 'Morpheme'] = df.loc[i+1, 'form']\r\n",
    "        df.loc[i+1, 'NoSpaceAfter'] = 2\r\n"
   ]
  },
  {
   "cell_type": "code",
   "execution_count": 14,
   "metadata": {},
   "outputs": [],
   "source": [
    "#Removing everything expect nouns and verbs\r\n",
    "for index, row in df.iterrows():\r\n",
    "    if (row[\"upos\"] != 'N') and (row[\"upos\"] != 'V') and (row['NoSpaceAfter'] != 2):\r\n",
    "        df.drop(index, inplace = True)\r\n",
    "\r\n",
    "        "
   ]
  },
  {
   "cell_type": "code",
   "execution_count": 15,
   "metadata": {},
   "outputs": [
    {
     "name": "stderr",
     "output_type": "stream",
     "text": [
      "<ipython-input-15-bbe873462ef5>:5: SettingWithCopyWarning: \n",
      "A value is trying to be set on a copy of a slice from a DataFrame\n",
      "\n",
      "See the caveats in the documentation: https://pandas.pydata.org/pandas-docs/stable/user_guide/indexing.html#returning-a-view-versus-a-copy\n",
      "  value_counts_df[\"Counts\"][0]=0\n"
     ]
    },
    {
     "data": {
      "text/html": "<div>\n<style scoped>\n    .dataframe tbody tr th:only-of-type {\n        vertical-align: middle;\n    }\n\n    .dataframe tbody tr th {\n        vertical-align: top;\n    }\n\n    .dataframe thead th {\n        text-align: right;\n    }\n</style>\n<table border=\"1\" class=\"dataframe\">\n  <thead>\n    <tr style=\"text-align: right;\">\n      <th></th>\n      <th>Morpheme</th>\n      <th>Counts</th>\n    </tr>\n  </thead>\n  <tbody>\n    <tr>\n      <th>0</th>\n      <td></td>\n      <td>0</td>\n    </tr>\n    <tr>\n      <th>1</th>\n      <td>கள்</td>\n      <td>210</td>\n    </tr>\n    <tr>\n      <th>2</th>\n      <td>உம்</td>\n      <td>209</td>\n    </tr>\n    <tr>\n      <th>3</th>\n      <td>யில்</td>\n      <td>155</td>\n    </tr>\n    <tr>\n      <th>4</th>\n      <td>ஆக</td>\n      <td>127</td>\n    </tr>\n  </tbody>\n</table>\n</div>",
      "text/plain": "  Morpheme  Counts\n0                0\n1      கள்     210\n2      உம்     209\n3     யில்     155\n4       ஆக     127"
     },
     "execution_count": 15,
     "metadata": {},
     "output_type": "execute_result"
    }
   ],
   "source": [
    "#Creating dataframe out of the frequencies of the morphemes\r\n",
    "value_counts_df = pd.DataFrame(df[\"Morpheme\"].value_counts())\r\n",
    "value_counts_df.reset_index(inplace=True)\r\n",
    "value_counts_df = value_counts_df.rename(columns = {'index':'Morpheme', 'Morpheme':'Counts'})\r\n",
    "value_counts_df[\"Counts\"][0]=0\r\n",
    "value_counts_df.head()"
   ]
  },
  {
   "cell_type": "code",
   "execution_count": 16,
   "metadata": {},
   "outputs": [
    {
     "data": {
      "text/html": "<div>\n<style scoped>\n    .dataframe tbody tr th:only-of-type {\n        vertical-align: middle;\n    }\n\n    .dataframe tbody tr th {\n        vertical-align: top;\n    }\n\n    .dataframe thead th {\n        text-align: right;\n    }\n</style>\n<table border=\"1\" class=\"dataframe\">\n  <thead>\n    <tr style=\"text-align: right;\">\n      <th></th>\n      <th>form</th>\n      <th>lemma</th>\n      <th>upos</th>\n      <th>xpos</th>\n      <th>feats</th>\n      <th>head</th>\n      <th>Morpheme</th>\n      <th>NoSpaceAfter</th>\n      <th>Counts</th>\n    </tr>\n  </thead>\n  <tbody>\n    <tr>\n      <th>0</th>\n      <td>சென்னை</td>\n      <td>சென்னை</td>\n      <td>N</td>\n      <td>NEN-3SN--</td>\n      <td>{'Cas': 'N', 'Per': '3', 'Num': 'S', 'Gen': 'N'}</td>\n      <td>2</td>\n      <td></td>\n      <td>0</td>\n      <td>0</td>\n    </tr>\n    <tr>\n      <th>1</th>\n      <td>ஸ்ரீ</td>\n      <td>ஸ்ரீ</td>\n      <td>N</td>\n      <td>NEN-3SN--</td>\n      <td>{'Cas': 'N', 'Per': '3', 'Num': 'S', 'Gen': 'N'}</td>\n      <td>4</td>\n      <td></td>\n      <td>0</td>\n      <td>0</td>\n    </tr>\n    <tr>\n      <th>2</th>\n      <td>பெரும்புதூரில்</td>\n      <td>பெரும்புதூர்</td>\n      <td>N</td>\n      <td>NEL-3SN--</td>\n      <td>{'Cas': 'L', 'Per': '3', 'Num': 'S', 'Gen': 'N'}</td>\n      <td>18</td>\n      <td>ில்</td>\n      <td>0</td>\n      <td>111</td>\n    </tr>\n    <tr>\n      <th>3</th>\n      <td>கிரீன்</td>\n      <td>கிரீன்</td>\n      <td>N</td>\n      <td>NEN-3SN--</td>\n      <td>{'Cas': 'N', 'Per': '3', 'Num': 'S', 'Gen': 'N'}</td>\n      <td>6</td>\n      <td></td>\n      <td>0</td>\n      <td>0</td>\n    </tr>\n    <tr>\n      <th>4</th>\n      <td>பீல்டு</td>\n      <td>பீல்டு</td>\n      <td>N</td>\n      <td>NEN-3SN--</td>\n      <td>{'Cas': 'N', 'Per': '3', 'Num': 'S', 'Gen': 'N'}</td>\n      <td>11</td>\n      <td></td>\n      <td>0</td>\n      <td>0</td>\n    </tr>\n  </tbody>\n</table>\n</div>",
      "text/plain": "             form         lemma upos       xpos  \\\n0          சென்னை        சென்னை    N  NEN-3SN--   \n1            ஸ்ரீ          ஸ்ரீ    N  NEN-3SN--   \n2  பெரும்புதூரில்  பெரும்புதூர்    N  NEL-3SN--   \n3          கிரீன்        கிரீன்    N  NEN-3SN--   \n4          பீல்டு        பீல்டு    N  NEN-3SN--   \n\n                                              feats head Morpheme  \\\n0  {'Cas': 'N', 'Per': '3', 'Num': 'S', 'Gen': 'N'}    2            \n1  {'Cas': 'N', 'Per': '3', 'Num': 'S', 'Gen': 'N'}    4            \n2  {'Cas': 'L', 'Per': '3', 'Num': 'S', 'Gen': 'N'}   18      ில்   \n3  {'Cas': 'N', 'Per': '3', 'Num': 'S', 'Gen': 'N'}    6            \n4  {'Cas': 'N', 'Per': '3', 'Num': 'S', 'Gen': 'N'}   11            \n\n   NoSpaceAfter  Counts  \n0             0       0  \n1             0       0  \n2             0     111  \n3             0       0  \n4             0       0  "
     },
     "execution_count": 16,
     "metadata": {},
     "output_type": "execute_result"
    }
   ],
   "source": [
    "#Merging value counts with the original dataframe\r\n",
    "merged_df = pd.merge(df, value_counts_df, on=\"Morpheme\", how = \"left\")\r\n",
    "merged_df.head()"
   ]
  },
  {
   "cell_type": "code",
   "execution_count": 17,
   "metadata": {},
   "outputs": [],
   "source": [
    "# Removing all the blank morpheme rows\r\n",
    "for index, row in merged_df.iterrows():\r\n",
    "    if row[\"Morpheme\"] == '':\r\n",
    "        merged_df.drop(index, inplace = True)\r\n"
   ]
  },
  {
   "cell_type": "code",
   "execution_count": 18,
   "metadata": {},
   "outputs": [
    {
     "data": {
      "text/html": "<div>\n<style scoped>\n    .dataframe tbody tr th:only-of-type {\n        vertical-align: middle;\n    }\n\n    .dataframe tbody tr th {\n        vertical-align: top;\n    }\n\n    .dataframe thead th {\n        text-align: right;\n    }\n</style>\n<table border=\"1\" class=\"dataframe\">\n  <thead>\n    <tr style=\"text-align: right;\">\n      <th></th>\n      <th>Morpheme</th>\n      <th>Counts</th>\n      <th>upos</th>\n      <th>xpos</th>\n      <th>NoSpaceAfter</th>\n    </tr>\n  </thead>\n  <tbody>\n    <tr>\n      <th>130</th>\n      <td>கள்</td>\n      <td>210</td>\n      <td>N</td>\n      <td>NNN-3PA--</td>\n      <td>1</td>\n    </tr>\n    <tr>\n      <th>172</th>\n      <td>கள்</td>\n      <td>210</td>\n      <td>N</td>\n      <td>NNN-3PN--</td>\n      <td>0</td>\n    </tr>\n    <tr>\n      <th>30</th>\n      <td>உம்</td>\n      <td>209</td>\n      <td>T</td>\n      <td>Tv-------</td>\n      <td>2</td>\n    </tr>\n    <tr>\n      <th>10</th>\n      <td>யில்</td>\n      <td>155</td>\n      <td>N</td>\n      <td>NNL-3SN--</td>\n      <td>0</td>\n    </tr>\n    <tr>\n      <th>653</th>\n      <td>யில்</td>\n      <td>155</td>\n      <td>N</td>\n      <td>NNL-3SN--</td>\n      <td>1</td>\n    </tr>\n  </tbody>\n</table>\n</div>",
      "text/plain": "    Morpheme  Counts upos       xpos  NoSpaceAfter\n130      கள்     210    N  NNN-3PA--             1\n172      கள்     210    N  NNN-3PN--             0\n30       உம்     209    T  Tv-------             2\n10      யில்     155    N  NNL-3SN--             0\n653     யில்     155    N  NNL-3SN--             1"
     },
     "execution_count": 18,
     "metadata": {},
     "output_type": "execute_result"
    }
   ],
   "source": [
    "#Cleaning up to only get the noun and verb morphemes along with their value counts\r\n",
    "columns = ['Morpheme', 'Counts','upos', 'xpos', 'NoSpaceAfter']\r\n",
    "adjusted_morpheme_df = pd.DataFrame(columns = columns)\r\n",
    "adjusted_morpheme_df[\"Morpheme\"] = merged_df[\"Morpheme\"]\r\n",
    "adjusted_morpheme_df[\"Counts\"] = merged_df[\"Counts\"]\r\n",
    "adjusted_morpheme_df[\"upos\"] = merged_df[\"upos\"]\r\n",
    "adjusted_morpheme_df[\"xpos\"] = merged_df[\"xpos\"]\r\n",
    "adjusted_morpheme_df[\"NoSpaceAfter\"] = merged_df[\"NoSpaceAfter\"]\r\n",
    "adjusted_morpheme_df = adjusted_morpheme_df.drop_duplicates(subset = ['Morpheme', 'NoSpaceAfter', 'Counts'])\r\n",
    "adjusted_morpheme_df = adjusted_morpheme_df.sort_values(by='Counts', ascending=False)\r\n",
    "adjusted_morpheme_df.head()"
   ]
  },
  {
   "cell_type": "code",
   "execution_count": 19,
   "metadata": {},
   "outputs": [
    {
     "data": {
      "text/html": "<div>\n<style scoped>\n    .dataframe tbody tr th:only-of-type {\n        vertical-align: middle;\n    }\n\n    .dataframe tbody tr th {\n        vertical-align: top;\n    }\n\n    .dataframe thead th {\n        text-align: right;\n    }\n</style>\n<table border=\"1\" class=\"dataframe\">\n  <thead>\n    <tr style=\"text-align: right;\">\n      <th></th>\n      <th>Morpheme</th>\n      <th>Counts</th>\n      <th>upos</th>\n      <th>xpos</th>\n      <th>NoSpaceAfter</th>\n    </tr>\n  </thead>\n  <tbody>\n    <tr>\n      <th>30</th>\n      <td>உம்</td>\n      <td>209</td>\n      <td>T</td>\n      <td>Tv-------</td>\n      <td>2</td>\n    </tr>\n    <tr>\n      <th>131</th>\n      <td>ஆக</td>\n      <td>127</td>\n      <td>P</td>\n      <td>PP-------</td>\n      <td>2</td>\n    </tr>\n    <tr>\n      <th>7</th>\n      <td>ஆன</td>\n      <td>61</td>\n      <td>T</td>\n      <td>Tg-------</td>\n      <td>2</td>\n    </tr>\n    <tr>\n      <th>358</th>\n      <td>பட்ட்</td>\n      <td>52</td>\n      <td>V</td>\n      <td>VT-T---PA</td>\n      <td>2</td>\n    </tr>\n    <tr>\n      <th>235</th>\n      <td>உள்ளது</td>\n      <td>47</td>\n      <td>V</td>\n      <td>VR-T3SNAA</td>\n      <td>2</td>\n    </tr>\n  </tbody>\n</table>\n</div>",
      "text/plain": "    Morpheme  Counts upos       xpos  NoSpaceAfter\n30       உம்     209    T  Tv-------             2\n131       ஆக     127    P  PP-------             2\n7         ஆன      61    T  Tg-------             2\n358    பட்ட்      52    V  VT-T---PA             2\n235   உள்ளது      47    V  VR-T3SNAA             2"
     },
     "execution_count": 19,
     "metadata": {},
     "output_type": "execute_result"
    }
   ],
   "source": [
    "# Making postpositions/clitics morpheme list\r\n",
    "clitic_df = adjusted_morpheme_df[adjusted_morpheme_df['NoSpaceAfter']==2]\r\n",
    "clitic_df.head()"
   ]
  },
  {
   "cell_type": "code",
   "execution_count": 20,
   "metadata": {},
   "outputs": [
    {
     "data": {
      "text/html": "<div>\n<style scoped>\n    .dataframe tbody tr th:only-of-type {\n        vertical-align: middle;\n    }\n\n    .dataframe tbody tr th {\n        vertical-align: top;\n    }\n\n    .dataframe thead th {\n        text-align: right;\n    }\n</style>\n<table border=\"1\" class=\"dataframe\">\n  <thead>\n    <tr style=\"text-align: right;\">\n      <th></th>\n      <th>index</th>\n      <th>Morpheme</th>\n      <th>Counts</th>\n      <th>upos</th>\n      <th>xpos</th>\n      <th>NoSpaceAfter</th>\n    </tr>\n  </thead>\n  <tbody>\n    <tr>\n      <th>0</th>\n      <td>130</td>\n      <td>கள்</td>\n      <td>210</td>\n      <td>N</td>\n      <td>NNN-3PA--</td>\n      <td>1</td>\n    </tr>\n    <tr>\n      <th>1</th>\n      <td>172</td>\n      <td>கள்</td>\n      <td>210</td>\n      <td>N</td>\n      <td>NNN-3PN--</td>\n      <td>0</td>\n    </tr>\n    <tr>\n      <th>2</th>\n      <td>10</td>\n      <td>யில்</td>\n      <td>155</td>\n      <td>N</td>\n      <td>NNL-3SN--</td>\n      <td>0</td>\n    </tr>\n    <tr>\n      <th>3</th>\n      <td>653</td>\n      <td>யில்</td>\n      <td>155</td>\n      <td>N</td>\n      <td>NNL-3SN--</td>\n      <td>1</td>\n    </tr>\n    <tr>\n      <th>4</th>\n      <td>2</td>\n      <td>ில்</td>\n      <td>111</td>\n      <td>N</td>\n      <td>NEL-3SN--</td>\n      <td>0</td>\n    </tr>\n  </tbody>\n</table>\n</div>",
      "text/plain": "   index Morpheme  Counts upos       xpos  NoSpaceAfter\n0    130      கள்     210    N  NNN-3PA--             1\n1    172      கள்     210    N  NNN-3PN--             0\n2     10     யில்     155    N  NNL-3SN--             0\n3    653     யில்     155    N  NNL-3SN--             1\n4      2      ில்     111    N  NEL-3SN--             0"
     },
     "execution_count": 20,
     "metadata": {},
     "output_type": "execute_result"
    }
   ],
   "source": [
    "#Word list excluding postpostions\r\n",
    "root_df = adjusted_morpheme_df[adjusted_morpheme_df['NoSpaceAfter']<2]\r\n",
    "root_df.reset_index(inplace=True)\r\n",
    "root_df.head()"
   ]
  },
  {
   "cell_type": "code",
   "execution_count": 21,
   "metadata": {},
   "outputs": [],
   "source": [
    "#Creating morpheme list with no duplicates (without postpositions)\r\n",
    "no_repeat_df = root_df.drop_duplicates(subset = ['Morpheme'])\r\n"
   ]
  },
  {
   "cell_type": "markdown",
   "metadata": {},
   "source": [
    "# Getting Morpheme list for each type of noun and verb"
   ]
  },
  {
   "cell_type": "markdown",
   "metadata": {},
   "source": [
    "## Noun - Accusative Case"
   ]
  },
  {
   "cell_type": "code",
   "execution_count": 33,
   "metadata": {},
   "outputs": [],
   "source": [
    "# Creating function to make morphlist with counts\r\n",
    "def morphcount(input_df):\r\n",
    "    for i in range(len(input_df)):\r\n",
    "        word = input_df.loc[i, 'Morpheme']\r\n",
    "        a = [ch for ch in word]\r\n",
    "        b= []\r\n",
    "        n = len(a)\r\n",
    "        for num_splits in range(n):\r\n",
    "            for splits in itertools.combinations(range(1, n), num_splits):\r\n",
    "                splices = zip([0] + list(splits), list(splits) + [n])\r\n",
    "                b.append([a[i:j] for i, j in splices])\r\n",
    "\r\n",
    "        df = pd.DataFrame.from_records(b)\r\n",
    "        if i == 0:\r\n",
    "            morphs = df[i]\r\n",
    "        for j in range(len(df.columns)):\r\n",
    "            morphs = morphs.append(df[j])\r\n",
    "        \r\n",
    "        morphs = morphs.map(lambda x: ''.join(x),na_action='ignore')\r\n",
    "        morphs.dropna(inplace=True)\r\n"
   ]
  },
  {
   "cell_type": "code",
   "execution_count": 37,
   "metadata": {},
   "outputs": [
    {
     "name": "stderr",
     "output_type": "stream",
     "text": [
      "C:\\Users\\keetu\\anaconda3\\lib\\site-packages\\pandas\\core\\strings.py:2001: UserWarning: This pattern has match groups. To actually get the groups, use str.extract.\n",
      "  return func(self, *args, **kwargs)\n",
      "<ipython-input-37-f466f7b98591>:3: SettingWithCopyWarning: \n",
      "A value is trying to be set on a copy of a slice from a DataFrame\n",
      "\n",
      "See the caveats in the documentation: https://pandas.pydata.org/pandas-docs/stable/user_guide/indexing.html#returning-a-view-versus-a-copy\n",
      "  NA_df.drop_duplicates(inplace=True)\n"
     ]
    },
    {
     "data": {
      "text/html": "<div>\n<style scoped>\n    .dataframe tbody tr th:only-of-type {\n        vertical-align: middle;\n    }\n\n    .dataframe tbody tr th {\n        vertical-align: top;\n    }\n\n    .dataframe thead th {\n        text-align: right;\n    }\n</style>\n<table border=\"1\" class=\"dataframe\">\n  <thead>\n    <tr style=\"text-align: right;\">\n      <th></th>\n      <th>level_0</th>\n      <th>index</th>\n      <th>Morpheme</th>\n      <th>Counts</th>\n      <th>upos</th>\n      <th>xpos</th>\n      <th>NoSpaceAfter</th>\n    </tr>\n  </thead>\n  <tbody>\n    <tr>\n      <th>0</th>\n      <td>18</td>\n      <td>390</td>\n      <td>களை</td>\n      <td>46</td>\n      <td>N</td>\n      <td>NNA-3PN--</td>\n      <td>0</td>\n    </tr>\n    <tr>\n      <th>1</th>\n      <td>70</td>\n      <td>28</td>\n      <td>ஙகளை</td>\n      <td>14</td>\n      <td>N</td>\n      <td>NNA-3PN--</td>\n      <td>0</td>\n    </tr>\n    <tr>\n      <th>2</th>\n      <td>83</td>\n      <td>249</td>\n      <td>ததைய்</td>\n      <td>11</td>\n      <td>N</td>\n      <td>NNA-3SN--</td>\n      <td>1</td>\n    </tr>\n    <tr>\n      <th>3</th>\n      <td>87</td>\n      <td>1011</td>\n      <td>களைய்</td>\n      <td>11</td>\n      <td>N</td>\n      <td>NNA-3PA--</td>\n      <td>1</td>\n    </tr>\n    <tr>\n      <th>4</th>\n      <td>114</td>\n      <td>92</td>\n      <td>களைப்</td>\n      <td>7</td>\n      <td>N</td>\n      <td>NNA-3PN--</td>\n      <td>0</td>\n    </tr>\n    <tr>\n      <th>5</th>\n      <td>132</td>\n      <td>2640</td>\n      <td>ைக்</td>\n      <td>5</td>\n      <td>N</td>\n      <td>NNA-3SN--</td>\n      <td>0</td>\n    </tr>\n    <tr>\n      <th>6</th>\n      <td>133</td>\n      <td>1659</td>\n      <td>களைக்</td>\n      <td>5</td>\n      <td>N</td>\n      <td>NNA-3PN--</td>\n      <td>0</td>\n    </tr>\n    <tr>\n      <th>7</th>\n      <td>143</td>\n      <td>108</td>\n      <td>ஙகளைப்</td>\n      <td>4</td>\n      <td>N</td>\n      <td>NNA-3PN--</td>\n      <td>0</td>\n    </tr>\n    <tr>\n      <th>8</th>\n      <td>147</td>\n      <td>1228</td>\n      <td>ைப்</td>\n      <td>4</td>\n      <td>N</td>\n      <td>NNA-3SN--</td>\n      <td>0</td>\n    </tr>\n    <tr>\n      <th>9</th>\n      <td>148</td>\n      <td>1236</td>\n      <td>யைத்</td>\n      <td>4</td>\n      <td>N</td>\n      <td>NNA-3SN--</td>\n      <td>0</td>\n    </tr>\n    <tr>\n      <th>10</th>\n      <td>161</td>\n      <td>1719</td>\n      <td>ஙகளைய்</td>\n      <td>3</td>\n      <td>N</td>\n      <td>NNA-3PN--</td>\n      <td>1</td>\n    </tr>\n    <tr>\n      <th>11</th>\n      <td>167</td>\n      <td>699</td>\n      <td>யைப்</td>\n      <td>3</td>\n      <td>N</td>\n      <td>NNA-3SN--</td>\n      <td>0</td>\n    </tr>\n    <tr>\n      <th>12</th>\n      <td>194</td>\n      <td>756</td>\n      <td>ைத்</td>\n      <td>3</td>\n      <td>N</td>\n      <td>NNA-3PA--</td>\n      <td>0</td>\n    </tr>\n    <tr>\n      <th>13</th>\n      <td>199</td>\n      <td>2357</td>\n      <td>ததைப்</td>\n      <td>2</td>\n      <td>N</td>\n      <td>NNA-3SN--</td>\n      <td>0</td>\n    </tr>\n    <tr>\n      <th>14</th>\n      <td>202</td>\n      <td>140</td>\n      <td>ததைக்</td>\n      <td>2</td>\n      <td>N</td>\n      <td>NNA-3SN--</td>\n      <td>0</td>\n    </tr>\n    <tr>\n      <th>15</th>\n      <td>209</td>\n      <td>3517</td>\n      <td>இவ்விருதைப்</td>\n      <td>2</td>\n      <td>N</td>\n      <td>NNA-3SN--</td>\n      <td>0</td>\n    </tr>\n    <tr>\n      <th>16</th>\n      <td>241</td>\n      <td>1193</td>\n      <td>களைத்</td>\n      <td>2</td>\n      <td>N</td>\n      <td>NNA-3PN--</td>\n      <td>0</td>\n    </tr>\n    <tr>\n      <th>17</th>\n      <td>251</td>\n      <td>5038</td>\n      <td>ைய்</td>\n      <td>2</td>\n      <td>N</td>\n      <td>NNA-3SN--</td>\n      <td>1</td>\n    </tr>\n    <tr>\n      <th>18</th>\n      <td>265</td>\n      <td>23</td>\n      <td>யைக்</td>\n      <td>1</td>\n      <td>N</td>\n      <td>NNA-3SN--</td>\n      <td>0</td>\n    </tr>\n    <tr>\n      <th>19</th>\n      <td>275</td>\n      <td>3976</td>\n      <td>ஙகளைச்</td>\n      <td>1</td>\n      <td>N</td>\n      <td>NNA-3PN--</td>\n      <td>0</td>\n    </tr>\n    <tr>\n      <th>20</th>\n      <td>283</td>\n      <td>6316</td>\n      <td>ையும்</td>\n      <td>1</td>\n      <td>N</td>\n      <td>NNA-3SN--</td>\n      <td>0</td>\n    </tr>\n    <tr>\n      <th>21</th>\n      <td>336</td>\n      <td>182</td>\n      <td>்டை</td>\n      <td>1</td>\n      <td>N</td>\n      <td>NNA-3SN--</td>\n      <td>0</td>\n    </tr>\n    <tr>\n      <th>22</th>\n      <td>339</td>\n      <td>1854</td>\n      <td>டுகளைய்</td>\n      <td>1</td>\n      <td>N</td>\n      <td>NNA-3PN--</td>\n      <td>1</td>\n    </tr>\n    <tr>\n      <th>23</th>\n      <td>372</td>\n      <td>3025</td>\n      <td>சை</td>\n      <td>1</td>\n      <td>N</td>\n      <td>NNA-3SN--</td>\n      <td>0</td>\n    </tr>\n    <tr>\n      <th>24</th>\n      <td>373</td>\n      <td>3054</td>\n      <td>இத்தகவலை</td>\n      <td>1</td>\n      <td>N</td>\n      <td>NNA-3SN--</td>\n      <td>0</td>\n    </tr>\n    <tr>\n      <th>25</th>\n      <td>386</td>\n      <td>3623</td>\n      <td>தைய்</td>\n      <td>1</td>\n      <td>N</td>\n      <td>NNA-3SN--</td>\n      <td>1</td>\n    </tr>\n    <tr>\n      <th>26</th>\n      <td>389</td>\n      <td>2874</td>\n      <td>ததைத்</td>\n      <td>1</td>\n      <td>N</td>\n      <td>NNA-3SN--</td>\n      <td>0</td>\n    </tr>\n    <tr>\n      <th>27</th>\n      <td>393</td>\n      <td>2110</td>\n      <td>்டைச்</td>\n      <td>1</td>\n      <td>N</td>\n      <td>NNA-3SN--</td>\n      <td>0</td>\n    </tr>\n    <tr>\n      <th>28</th>\n      <td>409</td>\n      <td>2651</td>\n      <td>வைப்</td>\n      <td>1</td>\n      <td>N</td>\n      <td>NNA-3SN--</td>\n      <td>0</td>\n    </tr>\n  </tbody>\n</table>\n</div>",
      "text/plain": "    level_0  index     Morpheme  Counts upos       xpos  NoSpaceAfter\n0        18    390          களை      46    N  NNA-3PN--             0\n1        70     28         ஙகளை      14    N  NNA-3PN--             0\n2        83    249        ததைய்      11    N  NNA-3SN--             1\n3        87   1011        களைய்      11    N  NNA-3PA--             1\n4       114     92        களைப்       7    N  NNA-3PN--             0\n5       132   2640          ைக்       5    N  NNA-3SN--             0\n6       133   1659        களைக்       5    N  NNA-3PN--             0\n7       143    108       ஙகளைப்       4    N  NNA-3PN--             0\n8       147   1228          ைப்       4    N  NNA-3SN--             0\n9       148   1236         யைத்       4    N  NNA-3SN--             0\n10      161   1719       ஙகளைய்       3    N  NNA-3PN--             1\n11      167    699         யைப்       3    N  NNA-3SN--             0\n12      194    756          ைத்       3    N  NNA-3PA--             0\n13      199   2357        ததைப்       2    N  NNA-3SN--             0\n14      202    140        ததைக்       2    N  NNA-3SN--             0\n15      209   3517  இவ்விருதைப்       2    N  NNA-3SN--             0\n16      241   1193        களைத்       2    N  NNA-3PN--             0\n17      251   5038          ைய்       2    N  NNA-3SN--             1\n18      265     23         யைக்       1    N  NNA-3SN--             0\n19      275   3976       ஙகளைச்       1    N  NNA-3PN--             0\n20      283   6316        ையும்       1    N  NNA-3SN--             0\n21      336    182          ்டை       1    N  NNA-3SN--             0\n22      339   1854      டுகளைய்       1    N  NNA-3PN--             1\n23      372   3025           சை       1    N  NNA-3SN--             0\n24      373   3054     இத்தகவலை       1    N  NNA-3SN--             0\n25      386   3623         தைய்       1    N  NNA-3SN--             1\n26      389   2874        ததைத்       1    N  NNA-3SN--             0\n27      393   2110        ்டைச்       1    N  NNA-3SN--             0\n28      409   2651         வைப்       1    N  NNA-3SN--             0"
     },
     "execution_count": 37,
     "metadata": {},
     "output_type": "execute_result"
    }
   ],
   "source": [
    "NA_df = no_repeat_df[no_repeat_df['xpos'].str.contains(r'(NNA.*)')]\r\n",
    "NA_df.reset_index(inplace=True)\r\n",
    "NA_df.drop_duplicates(inplace=True)\r\n",
    "NA_df"
   ]
  },
  {
   "cell_type": "code",
   "execution_count": 35,
   "metadata": {},
   "outputs": [
    {
     "data": {
      "text/html": "<div>\n<style scoped>\n    .dataframe tbody tr th:only-of-type {\n        vertical-align: middle;\n    }\n\n    .dataframe tbody tr th {\n        vertical-align: top;\n    }\n\n    .dataframe thead th {\n        text-align: right;\n    }\n</style>\n<table border=\"1\" class=\"dataframe\">\n  <thead>\n    <tr style=\"text-align: right;\">\n      <th></th>\n      <th>values</th>\n    </tr>\n    <tr>\n      <th>0</th>\n      <th></th>\n    </tr>\n  </thead>\n  <tbody>\n    <tr>\n      <th>்</th>\n      <td>998</td>\n    </tr>\n    <tr>\n      <th>இ</th>\n      <td>576</td>\n    </tr>\n    <tr>\n      <th>வ</th>\n      <td>548</td>\n    </tr>\n    <tr>\n      <th>ை</th>\n      <td>431</td>\n    </tr>\n    <tr>\n      <th>த</th>\n      <td>383</td>\n    </tr>\n  </tbody>\n</table>\n</div>",
      "text/plain": "   values\n0        \n்     998\nஇ     576\nவ     548\nை     431\nத     383"
     },
     "execution_count": 35,
     "metadata": {},
     "output_type": "execute_result"
    }
   ],
   "source": [
    "morphcount(NA_df)\r\n",
    "morphs_df = pd.DataFrame(morphs)\r\n",
    "columns = ['values']\r\n",
    "morphs_values_df = pd.DataFrame(morphs_df.value_counts(), columns = columns)\r\n",
    "morphs_values_df.sort_values(by=['values'], ascending=False).head()"
   ]
  },
  {
   "cell_type": "markdown",
   "metadata": {},
   "source": [
    "## Noun - Dative Case"
   ]
  },
  {
   "cell_type": "code",
   "execution_count": 38,
   "metadata": {},
   "outputs": [
    {
     "name": "stderr",
     "output_type": "stream",
     "text": [
      "C:\\Users\\keetu\\anaconda3\\lib\\site-packages\\pandas\\core\\strings.py:2001: UserWarning: This pattern has match groups. To actually get the groups, use str.extract.\n",
      "  return func(self, *args, **kwargs)\n",
      "<ipython-input-38-260405493b89>:3: SettingWithCopyWarning: \n",
      "A value is trying to be set on a copy of a slice from a DataFrame\n",
      "\n",
      "See the caveats in the documentation: https://pandas.pydata.org/pandas-docs/stable/user_guide/indexing.html#returning-a-view-versus-a-copy\n",
      "  ND_df.drop_duplicates(inplace=True)\n"
     ]
    },
    {
     "data": {
      "text/html": "<div>\n<style scoped>\n    .dataframe tbody tr th:only-of-type {\n        vertical-align: middle;\n    }\n\n    .dataframe tbody tr th {\n        vertical-align: top;\n    }\n\n    .dataframe thead th {\n        text-align: right;\n    }\n</style>\n<table border=\"1\" class=\"dataframe\">\n  <thead>\n    <tr style=\"text-align: right;\">\n      <th></th>\n      <th>level_0</th>\n      <th>index</th>\n      <th>Morpheme</th>\n      <th>Counts</th>\n      <th>upos</th>\n      <th>xpos</th>\n      <th>NoSpaceAfter</th>\n    </tr>\n  </thead>\n  <tbody>\n    <tr>\n      <th>0</th>\n      <td>15</td>\n      <td>506</td>\n      <td>க்கு</td>\n      <td>49</td>\n      <td>N</td>\n      <td>NND-3SN--</td>\n      <td>0</td>\n    </tr>\n    <tr>\n      <th>1</th>\n      <td>57</td>\n      <td>169</td>\n      <td>ுக்கு</td>\n      <td>18</td>\n      <td>N</td>\n      <td>NPDF3PH-A</td>\n      <td>0</td>\n    </tr>\n    <tr>\n      <th>2</th>\n      <td>64</td>\n      <td>1281</td>\n      <td>களுக்கு</td>\n      <td>16</td>\n      <td>N</td>\n      <td>NND-3PN--</td>\n      <td>0</td>\n    </tr>\n    <tr>\n      <th>3</th>\n      <td>68</td>\n      <td>258</td>\n      <td>வுக்கு</td>\n      <td>14</td>\n      <td>N</td>\n      <td>NED-3SN--</td>\n      <td>0</td>\n    </tr>\n    <tr>\n      <th>4</th>\n      <td>69</td>\n      <td>948</td>\n      <td>களுக்க்</td>\n      <td>14</td>\n      <td>N</td>\n      <td>NND-3PN--</td>\n      <td>1</td>\n    </tr>\n    <tr>\n      <th>5</th>\n      <td>72</td>\n      <td>1760</td>\n      <td>க்க்</td>\n      <td>14</td>\n      <td>N</td>\n      <td>NED-3SN--</td>\n      <td>1</td>\n    </tr>\n    <tr>\n      <th>6</th>\n      <td>84</td>\n      <td>70</td>\n      <td>ததுக்கு</td>\n      <td>11</td>\n      <td>N</td>\n      <td>NND-3SN--</td>\n      <td>0</td>\n    </tr>\n    <tr>\n      <th>7</th>\n      <td>96</td>\n      <td>1740</td>\n      <td>ுக்க்</td>\n      <td>9</td>\n      <td>N</td>\n      <td>NND-3SN--</td>\n      <td>1</td>\n    </tr>\n    <tr>\n      <th>8</th>\n      <td>122</td>\n      <td>2376</td>\n      <td>ததுக்க்</td>\n      <td>6</td>\n      <td>N</td>\n      <td>NND-3SN--</td>\n      <td>1</td>\n    </tr>\n    <tr>\n      <th>9</th>\n      <td>131</td>\n      <td>1294</td>\n      <td>ஙகளுக்கு</td>\n      <td>5</td>\n      <td>N</td>\n      <td>NND-3PN--</td>\n      <td>0</td>\n    </tr>\n    <tr>\n      <th>10</th>\n      <td>141</td>\n      <td>302</td>\n      <td>ஙகளுக்க்</td>\n      <td>5</td>\n      <td>N</td>\n      <td>NND-3PN--</td>\n      <td>1</td>\n    </tr>\n    <tr>\n      <th>11</th>\n      <td>162</td>\n      <td>1330</td>\n      <td>களுக்குப்</td>\n      <td>3</td>\n      <td>N</td>\n      <td>NND-3PN--</td>\n      <td>0</td>\n    </tr>\n    <tr>\n      <th>12</th>\n      <td>170</td>\n      <td>4728</td>\n      <td>வுக்க்</td>\n      <td>3</td>\n      <td>N</td>\n      <td>NED-3SN--</td>\n      <td>1</td>\n    </tr>\n    <tr>\n      <th>13</th>\n      <td>173</td>\n      <td>670</td>\n      <td>ுக்குப்</td>\n      <td>3</td>\n      <td>N</td>\n      <td>NND-3SN--</td>\n      <td>0</td>\n    </tr>\n    <tr>\n      <th>14</th>\n      <td>204</td>\n      <td>4900</td>\n      <td>ஙகளுக்குத்</td>\n      <td>2</td>\n      <td>N</td>\n      <td>NND-3PN--</td>\n      <td>0</td>\n    </tr>\n    <tr>\n      <th>15</th>\n      <td>207</td>\n      <td>4214</td>\n      <td>்டுக்கு</td>\n      <td>2</td>\n      <td>N</td>\n      <td>NND-3SN--</td>\n      <td>0</td>\n    </tr>\n    <tr>\n      <th>16</th>\n      <td>216</td>\n      <td>2728</td>\n      <td>ததிற்க்</td>\n      <td>2</td>\n      <td>N</td>\n      <td>NND-3SN--</td>\n      <td>1</td>\n    </tr>\n    <tr>\n      <th>17</th>\n      <td>228</td>\n      <td>4500</td>\n      <td>ிற்க்</td>\n      <td>2</td>\n      <td>N</td>\n      <td>NND-3SN--</td>\n      <td>1</td>\n    </tr>\n    <tr>\n      <th>18</th>\n      <td>234</td>\n      <td>3816</td>\n      <td>்றுக்க்</td>\n      <td>2</td>\n      <td>N</td>\n      <td>NND-3SN--</td>\n      <td>1</td>\n    </tr>\n    <tr>\n      <th>19</th>\n      <td>242</td>\n      <td>5432</td>\n      <td>ுக்குச்</td>\n      <td>2</td>\n      <td>N</td>\n      <td>NED-3SN--</td>\n      <td>0</td>\n    </tr>\n    <tr>\n      <th>20</th>\n      <td>244</td>\n      <td>400</td>\n      <td>க்களுக்க்</td>\n      <td>2</td>\n      <td>N</td>\n      <td>NED-3PA--</td>\n      <td>1</td>\n    </tr>\n    <tr>\n      <th>21</th>\n      <td>252</td>\n      <td>1923</td>\n      <td>வுக்குச்</td>\n      <td>2</td>\n      <td>N</td>\n      <td>NED-3SN--</td>\n      <td>0</td>\n    </tr>\n    <tr>\n      <th>22</th>\n      <td>269</td>\n      <td>3980</td>\n      <td>களுக்குச்</td>\n      <td>1</td>\n      <td>N</td>\n      <td>NND-3SN--</td>\n      <td>0</td>\n    </tr>\n    <tr>\n      <th>23</th>\n      <td>272</td>\n      <td>3957</td>\n      <td>ங்களுக்குச்</td>\n      <td>1</td>\n      <td>N</td>\n      <td>NND-3PN--</td>\n      <td>0</td>\n    </tr>\n    <tr>\n      <th>24</th>\n      <td>289</td>\n      <td>4645</td>\n      <td>ளுக்கு</td>\n      <td>1</td>\n      <td>N</td>\n      <td>NND-3PA--</td>\n      <td>0</td>\n    </tr>\n    <tr>\n      <th>25</th>\n      <td>291</td>\n      <td>4537</td>\n      <td>ுக்கும்</td>\n      <td>1</td>\n      <td>N</td>\n      <td>NND-3PA--</td>\n      <td>0</td>\n    </tr>\n    <tr>\n      <th>26</th>\n      <td>300</td>\n      <td>5131</td>\n      <td>க்குத்</td>\n      <td>1</td>\n      <td>N</td>\n      <td>NND-3SN--</td>\n      <td>0</td>\n    </tr>\n    <tr>\n      <th>27</th>\n      <td>305</td>\n      <td>5750</td>\n      <td>்டிற்கு</td>\n      <td>1</td>\n      <td>N</td>\n      <td>NND-3SN--</td>\n      <td>0</td>\n    </tr>\n    <tr>\n      <th>28</th>\n      <td>306</td>\n      <td>5809</td>\n      <td>்டுக்க்</td>\n      <td>1</td>\n      <td>N</td>\n      <td>NND-3SN--</td>\n      <td>1</td>\n    </tr>\n    <tr>\n      <th>29</th>\n      <td>323</td>\n      <td>1595</td>\n      <td>ரங்களுக்கு</td>\n      <td>1</td>\n      <td>N</td>\n      <td>NND-3PN--</td>\n      <td>0</td>\n    </tr>\n    <tr>\n      <th>30</th>\n      <td>328</td>\n      <td>1482</td>\n      <td>்றுக்கு</td>\n      <td>1</td>\n      <td>N</td>\n      <td>NND-3SN--</td>\n      <td>0</td>\n    </tr>\n    <tr>\n      <th>31</th>\n      <td>330</td>\n      <td>6</td>\n      <td>ததுக்குக்க்</td>\n      <td>1</td>\n      <td>N</td>\n      <td>NND-3SN--</td>\n      <td>1</td>\n    </tr>\n    <tr>\n      <th>32</th>\n      <td>335</td>\n      <td>1687</td>\n      <td>ததுக்குச்</td>\n      <td>1</td>\n      <td>N</td>\n      <td>NND-3SN--</td>\n      <td>0</td>\n    </tr>\n    <tr>\n      <th>33</th>\n      <td>337</td>\n      <td>1752</td>\n      <td>களுக்குத்</td>\n      <td>1</td>\n      <td>N</td>\n      <td>NED-3PA--</td>\n      <td>0</td>\n    </tr>\n    <tr>\n      <th>34</th>\n      <td>340</td>\n      <td>1949</td>\n      <td>்டுக்குச்</td>\n      <td>1</td>\n      <td>N</td>\n      <td>NND-3SN--</td>\n      <td>0</td>\n    </tr>\n    <tr>\n      <th>35</th>\n      <td>352</td>\n      <td>375</td>\n      <td>க்களுக்கு</td>\n      <td>1</td>\n      <td>N</td>\n      <td>NED-3PA--</td>\n      <td>0</td>\n    </tr>\n    <tr>\n      <th>36</th>\n      <td>363</td>\n      <td>1070</td>\n      <td>டிற்கு</td>\n      <td>1</td>\n      <td>N</td>\n      <td>NND-3SN--</td>\n      <td>0</td>\n    </tr>\n    <tr>\n      <th>37</th>\n      <td>376</td>\n      <td>3243</td>\n      <td>க்குப்</td>\n      <td>1</td>\n      <td>N</td>\n      <td>NND-3SN--</td>\n      <td>0</td>\n    </tr>\n    <tr>\n      <th>38</th>\n      <td>379</td>\n      <td>2864</td>\n      <td>ுக்குத்</td>\n      <td>1</td>\n      <td>N</td>\n      <td>NND-3SN--</td>\n      <td>0</td>\n    </tr>\n  </tbody>\n</table>\n</div>",
      "text/plain": "    level_0  index     Morpheme  Counts upos       xpos  NoSpaceAfter\n0        15    506         க்கு      49    N  NND-3SN--             0\n1        57    169        ுக்கு      18    N  NPDF3PH-A             0\n2        64   1281      களுக்கு      16    N  NND-3PN--             0\n3        68    258       வுக்கு      14    N  NED-3SN--             0\n4        69    948      களுக்க்      14    N  NND-3PN--             1\n5        72   1760         க்க்      14    N  NED-3SN--             1\n6        84     70      ததுக்கு      11    N  NND-3SN--             0\n7        96   1740        ுக்க்       9    N  NND-3SN--             1\n8       122   2376      ததுக்க்       6    N  NND-3SN--             1\n9       131   1294     ஙகளுக்கு       5    N  NND-3PN--             0\n10      141    302     ஙகளுக்க்       5    N  NND-3PN--             1\n11      162   1330    களுக்குப்       3    N  NND-3PN--             0\n12      170   4728       வுக்க்       3    N  NED-3SN--             1\n13      173    670      ுக்குப்       3    N  NND-3SN--             0\n14      204   4900   ஙகளுக்குத்       2    N  NND-3PN--             0\n15      207   4214      ்டுக்கு       2    N  NND-3SN--             0\n16      216   2728      ததிற்க்       2    N  NND-3SN--             1\n17      228   4500        ிற்க்       2    N  NND-3SN--             1\n18      234   3816      ்றுக்க்       2    N  NND-3SN--             1\n19      242   5432      ுக்குச்       2    N  NED-3SN--             0\n20      244    400    க்களுக்க்       2    N  NED-3PA--             1\n21      252   1923     வுக்குச்       2    N  NED-3SN--             0\n22      269   3980    களுக்குச்       1    N  NND-3SN--             0\n23      272   3957  ங்களுக்குச்       1    N  NND-3PN--             0\n24      289   4645       ளுக்கு       1    N  NND-3PA--             0\n25      291   4537      ுக்கும்       1    N  NND-3PA--             0\n26      300   5131       க்குத்       1    N  NND-3SN--             0\n27      305   5750      ்டிற்கு       1    N  NND-3SN--             0\n28      306   5809      ்டுக்க்       1    N  NND-3SN--             1\n29      323   1595   ரங்களுக்கு       1    N  NND-3PN--             0\n30      328   1482      ்றுக்கு       1    N  NND-3SN--             0\n31      330      6  ததுக்குக்க்       1    N  NND-3SN--             1\n32      335   1687    ததுக்குச்       1    N  NND-3SN--             0\n33      337   1752    களுக்குத்       1    N  NED-3PA--             0\n34      340   1949    ்டுக்குச்       1    N  NND-3SN--             0\n35      352    375    க்களுக்கு       1    N  NED-3PA--             0\n36      363   1070       டிற்கு       1    N  NND-3SN--             0\n37      376   3243       க்குப்       1    N  NND-3SN--             0\n38      379   2864      ுக்குத்       1    N  NND-3SN--             0"
     },
     "execution_count": 38,
     "metadata": {},
     "output_type": "execute_result"
    }
   ],
   "source": [
    "ND_df = no_repeat_df[no_repeat_df['xpos'].str.contains(r'(N.D.*)')]\r\n",
    "ND_df.reset_index(inplace=True)\r\n",
    "ND_df.drop_duplicates(inplace=True)\r\n",
    "ND_df"
   ]
  },
  {
   "cell_type": "code",
   "execution_count": 41,
   "metadata": {},
   "outputs": [
    {
     "data": {
      "text/html": "<div>\n<style scoped>\n    .dataframe tbody tr th:only-of-type {\n        vertical-align: middle;\n    }\n\n    .dataframe tbody tr th {\n        vertical-align: top;\n    }\n\n    .dataframe thead th {\n        text-align: right;\n    }\n</style>\n<table border=\"1\" class=\"dataframe\">\n  <thead>\n    <tr style=\"text-align: right;\">\n      <th></th>\n      <th>values</th>\n    </tr>\n    <tr>\n      <th>0</th>\n      <th></th>\n    </tr>\n  </thead>\n  <tbody>\n    <tr>\n      <th>்</th>\n      <td>998</td>\n    </tr>\n    <tr>\n      <th>இ</th>\n      <td>576</td>\n    </tr>\n    <tr>\n      <th>வ</th>\n      <td>548</td>\n    </tr>\n    <tr>\n      <th>ை</th>\n      <td>431</td>\n    </tr>\n    <tr>\n      <th>த</th>\n      <td>383</td>\n    </tr>\n  </tbody>\n</table>\n</div>",
      "text/plain": "   values\n0        \n்     998\nஇ     576\nவ     548\nை     431\nத     383"
     },
     "execution_count": 41,
     "metadata": {},
     "output_type": "execute_result"
    }
   ],
   "source": [
    "morphcount(ND_df)\r\n",
    "morphs_df = pd.DataFrame(morphs)\r\n",
    "columns = ['values']\r\n",
    "morphs_values_df = pd.DataFrame(morphs_df.value_counts(), columns = columns)\r\n",
    "morphs_values_df.sort_values(by=['values'], ascending=False).head()"
   ]
  },
  {
   "cell_type": "code",
   "execution_count": null,
   "metadata": {},
   "outputs": [],
   "source": [
    "##Next steps\r\n",
    "## make a list based on what you see for each tense (noun - stem+plural+case  verb - stem+tense+PNG)\r\n",
    "##Read the grammar textbook again make sure theres nothing missing"
   ]
  }
 ],
 "metadata": {
  "kernelspec": {
   "display_name": "Python 3.8.5 64-bit (conda)",
   "name": "python385jvsc74a57bd0acf47b83519c56191d0c3841e12beeb775e3446d2e4f4edc07386d3a55ce7a5e"
  },
  "language_info": {
   "codemirror_mode": {
    "name": "ipython",
    "version": 3
   },
   "file_extension": ".py",
   "mimetype": "text/x-python",
   "name": "python",
   "nbconvert_exporter": "python",
   "pygments_lexer": "ipython3",
   "version": "3.8.5"
  },
  "metadata": {
   "interpreter": {
    "hash": "f5d60b673bbbc194a180925bc8001f1badeda51edade5ea1395c8bd32b859e19"
   }
  }
 },
 "nbformat": 4,
 "nbformat_minor": 2
}