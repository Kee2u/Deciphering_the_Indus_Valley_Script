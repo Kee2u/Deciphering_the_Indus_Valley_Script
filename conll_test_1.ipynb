{
 "cells": [
  {
   "cell_type": "code",
   "execution_count": 1,
   "metadata": {},
   "outputs": [],
   "source": [
    "#my reference: https://pypi.org/project/conllu/"
   ]
  },
  {
   "cell_type": "code",
   "execution_count": 1,
   "metadata": {},
   "outputs": [],
   "source": [
    "from io import open\n",
    "from conllu import parse_tree_incr\n",
    "from conllu import parse_incr\n",
    "from conllu import parse\n",
    "from collections import OrderedDict\n",
    "import pandas as pd"
   ]
  },
  {
   "cell_type": "code",
   "execution_count": 2,
   "metadata": {},
   "outputs": [],
   "source": [
    "file = 'TamilTB.v0.1\\data\\TamilTB.v0.1.utf8.conll'\r\n",
    "data_file = open(file, \"r\", encoding=\"utf-8\")\r\n"
   ]
  },
  {
   "cell_type": "code",
   "execution_count": 3,
   "metadata": {},
   "outputs": [
    {
     "data": {
      "text/html": "<div>\n<style scoped>\n    .dataframe tbody tr th:only-of-type {\n        vertical-align: middle;\n    }\n\n    .dataframe tbody tr th {\n        vertical-align: top;\n    }\n\n    .dataframe thead th {\n        text-align: right;\n    }\n</style>\n<table border=\"1\" class=\"dataframe\">\n  <thead>\n    <tr style=\"text-align: right;\">\n      <th></th>\n      <th>id</th>\n      <th>form</th>\n      <th>lemma</th>\n      <th>upos</th>\n      <th>xpos</th>\n      <th>feats</th>\n      <th>head</th>\n    </tr>\n  </thead>\n  <tbody>\n    <tr>\n      <th>0</th>\n      <td>1</td>\n      <td>சென்னை</td>\n      <td>சென்னை</td>\n      <td>N</td>\n      <td>NEN-3SN--</td>\n      <td>{'Cas': 'N', 'Per': '3', 'Num': 'S', 'Gen': 'N'}</td>\n      <td>2</td>\n    </tr>\n    <tr>\n      <th>1</th>\n      <td>2</td>\n      <td>அருகே</td>\n      <td>அருகே</td>\n      <td>P</td>\n      <td>PP-------</td>\n      <td>None</td>\n      <td>18</td>\n    </tr>\n    <tr>\n      <th>2</th>\n      <td>3</td>\n      <td>ஸ்ரீ</td>\n      <td>ஸ்ரீ</td>\n      <td>N</td>\n      <td>NEN-3SN--</td>\n      <td>{'Cas': 'N', 'Per': '3', 'Num': 'S', 'Gen': 'N'}</td>\n      <td>4</td>\n    </tr>\n    <tr>\n      <th>3</th>\n      <td>4</td>\n      <td>பெரும்புதூரில்</td>\n      <td>பெரும்புதூர்</td>\n      <td>N</td>\n      <td>NEL-3SN--</td>\n      <td>{'Cas': 'L', 'Per': '3', 'Num': 'S', 'Gen': 'N'}</td>\n      <td>18</td>\n    </tr>\n    <tr>\n      <th>4</th>\n      <td>5</td>\n      <td>கிரீன்</td>\n      <td>கிரீன்</td>\n      <td>N</td>\n      <td>NEN-3SN--</td>\n      <td>{'Cas': 'N', 'Per': '3', 'Num': 'S', 'Gen': 'N'}</td>\n      <td>6</td>\n    </tr>\n  </tbody>\n</table>\n</div>",
      "text/plain": "  id            form         lemma upos       xpos  \\\n0  1          சென்னை        சென்னை    N  NEN-3SN--   \n1  2           அருகே         அருகே    P  PP-------   \n2  3            ஸ்ரீ          ஸ்ரீ    N  NEN-3SN--   \n3  4  பெரும்புதூரில்  பெரும்புதூர்    N  NEL-3SN--   \n4  5          கிரீன்        கிரீன்    N  NEN-3SN--   \n\n                                              feats head  \n0  {'Cas': 'N', 'Per': '3', 'Num': 'S', 'Gen': 'N'}    2  \n1                                              None   18  \n2  {'Cas': 'N', 'Per': '3', 'Num': 'S', 'Gen': 'N'}    4  \n3  {'Cas': 'L', 'Per': '3', 'Num': 'S', 'Gen': 'N'}   18  \n4  {'Cas': 'N', 'Per': '3', 'Num': 'S', 'Gen': 'N'}    6  "
     },
     "execution_count": 3,
     "metadata": {},
     "output_type": "execute_result"
    }
   ],
   "source": [
    "#Converting conll to a dataframe\r\n",
    "columns = ['id', 'form', 'lemma', 'upos', 'xpos', 'feats', 'head']\r\n",
    "df = pd.DataFrame(columns = columns)\r\n",
    "for tokenlist in parse_incr(data_file):\r\n",
    "    for word in tokenlist:\r\n",
    "        df = df.append({'id': word[\"id\"], \r\n",
    "                        'form' : word[\"form\"],\r\n",
    "                        'lemma' : word[\"lemma\"],\r\n",
    "                        'upos' : word[\"upos\"],\r\n",
    "                        'xpos' : word[\"xpos\"],\r\n",
    "                        'feats' : word[\"feats\"],\r\n",
    "                        'head' : word[\"head\"]},\r\n",
    "                        ignore_index = True\r\n",
    "                        )\r\n",
    "df.head()"
   ]
  },
  {
   "cell_type": "code",
   "execution_count": 48,
   "metadata": {},
   "outputs": [],
   "source": [
    "#Function to extract the morphemes by stripping away the lemma\r\n",
    "def morpheme_extract(lemmalist, wordlist):\r\n",
    "    if len(lemmalist)<len(wordlist):\r\n",
    "        for i in range(len(lemmalist)):\r\n",
    "            if (wordlist[i] != lemmalist[i]):\r\n",
    "                difference.append(wordlist[i])\r\n",
    "        index = i\r\n",
    "        for i in range(len(wordlist)):\r\n",
    "            if i > index:\r\n",
    "                difference.append(wordlist[i])\r\n",
    "                morpheme = ''.join(difference)\r\n",
    "                row[\"Morpheme\"] = morpheme\r\n",
    "    else:\r\n",
    "        row[\"Morpheme\"] = \"\"\r\n"
   ]
  },
  {
   "cell_type": "code",
   "execution_count": 49,
   "metadata": {},
   "outputs": [],
   "source": [
    "# Going through each row in the dataframe and calling the function to strip away the morphemes\r\n",
    "for index, row in df.iterrows():\r\n",
    "    word = row[\"form\"]\r\n",
    "    wordlist = [ch for ch in word] \r\n",
    "    lemma = row[\"lemma\"]\r\n",
    "    lemmalist = [ch for ch in lemma] \r\n",
    "    difference = []\r\n",
    "    morpheme_extract(lemmalist, wordlist)"
   ]
  },
  {
   "cell_type": "code",
   "execution_count": 95,
   "metadata": {},
   "outputs": [
    {
     "name": "stderr",
     "output_type": "stream",
     "text": [
      "<ipython-input-95-0524e0492eab>:4: SettingWithCopyWarning: \n",
      "A value is trying to be set on a copy of a slice from a DataFrame\n",
      "\n",
      "See the caveats in the documentation: https://pandas.pydata.org/pandas-docs/stable/user_guide/indexing.html#returning-a-view-versus-a-copy\n",
      "  value_counts_df[\"Counts\"][0]=0\n"
     ]
    },
    {
     "data": {
      "text/html": "<div>\n<style scoped>\n    .dataframe tbody tr th:only-of-type {\n        vertical-align: middle;\n    }\n\n    .dataframe tbody tr th {\n        vertical-align: top;\n    }\n\n    .dataframe thead th {\n        text-align: right;\n    }\n</style>\n<table border=\"1\" class=\"dataframe\">\n  <thead>\n    <tr style=\"text-align: right;\">\n      <th></th>\n      <th>Morpheme</th>\n      <th>Counts</th>\n    </tr>\n  </thead>\n  <tbody>\n    <tr>\n      <th>0</th>\n      <td></td>\n      <td>0</td>\n    </tr>\n    <tr>\n      <th>1</th>\n      <td>கள்</td>\n      <td>220</td>\n    </tr>\n    <tr>\n      <th>2</th>\n      <td>யில்</td>\n      <td>166</td>\n    </tr>\n    <tr>\n      <th>3</th>\n      <td>ம்</td>\n      <td>144</td>\n    </tr>\n    <tr>\n      <th>4</th>\n      <td>ில்</td>\n      <td>136</td>\n    </tr>\n  </tbody>\n</table>\n</div>",
      "text/plain": "  Morpheme  Counts\n0                0\n1      கள்     220\n2     யில்     166\n3       ம்     144\n4      ில்     136"
     },
     "execution_count": 95,
     "metadata": {},
     "output_type": "execute_result"
    }
   ],
   "source": [
    "#Creating dataframe out of the frequencies of the morphemes\r\n",
    "value_counts_df = pd.DataFrame(df[\"Morpheme\"].value_counts())\r\n",
    "value_counts_df.reset_index(inplace=True)\r\n",
    "value_counts_df = value_counts_df.rename(columns = {'index':'Morpheme', 'Morpheme':'Counts'})\r\n",
    "value_counts_df[\"Counts\"][0]=0\r\n",
    "value_counts_df.head()"
   ]
  },
  {
   "cell_type": "code",
   "execution_count": 99,
   "metadata": {},
   "outputs": [
    {
     "data": {
      "text/html": "<div>\n<style scoped>\n    .dataframe tbody tr th:only-of-type {\n        vertical-align: middle;\n    }\n\n    .dataframe tbody tr th {\n        vertical-align: top;\n    }\n\n    .dataframe thead th {\n        text-align: right;\n    }\n</style>\n<table border=\"1\" class=\"dataframe\">\n  <thead>\n    <tr style=\"text-align: right;\">\n      <th></th>\n      <th>id</th>\n      <th>form</th>\n      <th>lemma</th>\n      <th>upos</th>\n      <th>xpos</th>\n      <th>feats</th>\n      <th>head</th>\n      <th>Morpheme</th>\n      <th>Counts</th>\n    </tr>\n  </thead>\n  <tbody>\n    <tr>\n      <th>0</th>\n      <td>1</td>\n      <td>சென்னை</td>\n      <td>சென்னை</td>\n      <td>N</td>\n      <td>NEN-3SN--</td>\n      <td>{'Cas': 'N', 'Per': '3', 'Num': 'S', 'Gen': 'N'}</td>\n      <td>2</td>\n      <td></td>\n      <td>0</td>\n    </tr>\n    <tr>\n      <th>1</th>\n      <td>2</td>\n      <td>அருகே</td>\n      <td>அருகே</td>\n      <td>P</td>\n      <td>PP-------</td>\n      <td>None</td>\n      <td>18</td>\n      <td></td>\n      <td>0</td>\n    </tr>\n    <tr>\n      <th>2</th>\n      <td>3</td>\n      <td>ஸ்ரீ</td>\n      <td>ஸ்ரீ</td>\n      <td>N</td>\n      <td>NEN-3SN--</td>\n      <td>{'Cas': 'N', 'Per': '3', 'Num': 'S', 'Gen': 'N'}</td>\n      <td>4</td>\n      <td></td>\n      <td>0</td>\n    </tr>\n    <tr>\n      <th>3</th>\n      <td>4</td>\n      <td>பெரும்புதூரில்</td>\n      <td>பெரும்புதூர்</td>\n      <td>N</td>\n      <td>NEL-3SN--</td>\n      <td>{'Cas': 'L', 'Per': '3', 'Num': 'S', 'Gen': 'N'}</td>\n      <td>18</td>\n      <td>ில்</td>\n      <td>136</td>\n    </tr>\n    <tr>\n      <th>4</th>\n      <td>5</td>\n      <td>கிரீன்</td>\n      <td>கிரீன்</td>\n      <td>N</td>\n      <td>NEN-3SN--</td>\n      <td>{'Cas': 'N', 'Per': '3', 'Num': 'S', 'Gen': 'N'}</td>\n      <td>6</td>\n      <td></td>\n      <td>0</td>\n    </tr>\n  </tbody>\n</table>\n</div>",
      "text/plain": "  id            form         lemma upos       xpos  \\\n0  1          சென்னை        சென்னை    N  NEN-3SN--   \n1  2           அருகே         அருகே    P  PP-------   \n2  3            ஸ்ரீ          ஸ்ரீ    N  NEN-3SN--   \n3  4  பெரும்புதூரில்  பெரும்புதூர்    N  NEL-3SN--   \n4  5          கிரீன்        கிரீன்    N  NEN-3SN--   \n\n                                              feats head Morpheme  Counts  \n0  {'Cas': 'N', 'Per': '3', 'Num': 'S', 'Gen': 'N'}    2                0  \n1                                              None   18                0  \n2  {'Cas': 'N', 'Per': '3', 'Num': 'S', 'Gen': 'N'}    4                0  \n3  {'Cas': 'L', 'Per': '3', 'Num': 'S', 'Gen': 'N'}   18      ில்     136  \n4  {'Cas': 'N', 'Per': '3', 'Num': 'S', 'Gen': 'N'}    6                0  "
     },
     "execution_count": 99,
     "metadata": {},
     "output_type": "execute_result"
    }
   ],
   "source": [
    "#Merging value counts with the original dataframe\r\n",
    "merged_df = pd.merge(df, value_counts_df, on=\"Morpheme\", how = \"left\")\r\n",
    "merged_df = merged_df.drop('values',axis=1)\r\n",
    "merged_df.head()"
   ]
  },
  {
   "cell_type": "code",
   "execution_count": 120,
   "metadata": {},
   "outputs": [],
   "source": [
    "# Removing all the blank morpheme rows\r\n",
    "for index, row in merged_df.iterrows():\r\n",
    "    if row[\"Morpheme\"] == '':\r\n",
    "        merged_df.drop(index, inplace = True)\r\n"
   ]
  },
  {
   "cell_type": "code",
   "execution_count": 122,
   "metadata": {},
   "outputs": [],
   "source": [
    "#Removing everything expect nouns and verbs\r\n",
    "for index, row in merged_df.iterrows():\r\n",
    "    if (row[\"upos\"] != 'N') and (row[\"upos\"] != 'V':\r\n",
    "        merged_df.drop(index, inplace = True)"
   ]
  },
  {
   "cell_type": "code",
   "execution_count": 126,
   "metadata": {},
   "outputs": [
    {
     "data": {
      "text/html": "<div>\n<style scoped>\n    .dataframe tbody tr th:only-of-type {\n        vertical-align: middle;\n    }\n\n    .dataframe tbody tr th {\n        vertical-align: top;\n    }\n\n    .dataframe thead th {\n        text-align: right;\n    }\n</style>\n<table border=\"1\" class=\"dataframe\">\n  <thead>\n    <tr style=\"text-align: right;\">\n      <th></th>\n      <th>id</th>\n      <th>form</th>\n      <th>lemma</th>\n      <th>upos</th>\n      <th>xpos</th>\n      <th>feats</th>\n      <th>head</th>\n      <th>Morpheme</th>\n      <th>Counts</th>\n    </tr>\n  </thead>\n  <tbody>\n    <tr>\n      <th>3</th>\n      <td>4</td>\n      <td>பெரும்புதூரில்</td>\n      <td>பெரும்புதூர்</td>\n      <td>N</td>\n      <td>NEL-3SN--</td>\n      <td>{'Cas': 'L', 'Per': '3', 'Num': 'S', 'Gen': 'N'}</td>\n      <td>18</td>\n      <td>ில்</td>\n      <td>136</td>\n    </tr>\n    <tr>\n      <th>10</th>\n      <td>11</td>\n      <td>நிலையத்துக்குக்க்</td>\n      <td>நிலையம்</td>\n      <td>N</td>\n      <td>NND-3SN--</td>\n      <td>{'Cas': 'D', 'Per': '3', 'Num': 'S', 'Gen': 'N'}</td>\n      <td>12</td>\n      <td>ததுக்குக்க்</td>\n      <td>1</td>\n    </tr>\n    <tr>\n      <th>16</th>\n      <td>17</td>\n      <td>வகையில்</td>\n      <td>வகை</td>\n      <td>N</td>\n      <td>NNL-3SN--</td>\n      <td>{'Cas': 'L', 'Per': '3', 'Num': 'S', 'Gen': 'N'}</td>\n      <td>18</td>\n      <td>யில்</td>\n      <td>166</td>\n    </tr>\n    <tr>\n      <th>17</th>\n      <td>18</td>\n      <td>எடுக்கப்</td>\n      <td>எடு</td>\n      <td>V</td>\n      <td>Vu-T---AA</td>\n      <td>{'Ten': 'T', 'Voi': 'A', 'Neg': 'A'}</td>\n      <td>20</td>\n      <td>க்கப்</td>\n      <td>69</td>\n    </tr>\n    <tr>\n      <th>18</th>\n      <td>19</td>\n      <td>படும்</td>\n      <td>படு</td>\n      <td>V</td>\n      <td>VR-F3SNPA</td>\n      <td>{'Ten': 'F', 'Per': '3', 'Num': 'S', 'Gen': 'N...</td>\n      <td>18</td>\n      <td>ம்</td>\n      <td>144</td>\n    </tr>\n  </tbody>\n</table>\n</div>",
      "text/plain": "    id               form         lemma upos       xpos  \\\n3    4     பெரும்புதூரில்  பெரும்புதூர்    N  NEL-3SN--   \n10  11  நிலையத்துக்குக்க்       நிலையம்    N  NND-3SN--   \n16  17            வகையில்           வகை    N  NNL-3SN--   \n17  18           எடுக்கப்           எடு    V  Vu-T---AA   \n18  19              படும்           படு    V  VR-F3SNPA   \n\n                                                feats head     Morpheme  \\\n3    {'Cas': 'L', 'Per': '3', 'Num': 'S', 'Gen': 'N'}   18          ில்   \n10   {'Cas': 'D', 'Per': '3', 'Num': 'S', 'Gen': 'N'}   12  ததுக்குக்க்   \n16   {'Cas': 'L', 'Per': '3', 'Num': 'S', 'Gen': 'N'}   18         யில்   \n17               {'Ten': 'T', 'Voi': 'A', 'Neg': 'A'}   20        க்கப்   \n18  {'Ten': 'F', 'Per': '3', 'Num': 'S', 'Gen': 'N...   18           ம்   \n\n    Counts  \n3      136  \n10       1  \n16     166  \n17      69  \n18     144  "
     },
     "execution_count": 126,
     "metadata": {},
     "output_type": "execute_result"
    }
   ],
   "source": [
    "merged_df.head()"
   ]
  },
  {
   "cell_type": "code",
   "execution_count": 148,
   "metadata": {},
   "outputs": [
    {
     "data": {
      "text/html": "<div>\n<style scoped>\n    .dataframe tbody tr th:only-of-type {\n        vertical-align: middle;\n    }\n\n    .dataframe tbody tr th {\n        vertical-align: top;\n    }\n\n    .dataframe thead th {\n        text-align: right;\n    }\n</style>\n<table border=\"1\" class=\"dataframe\">\n  <thead>\n    <tr style=\"text-align: right;\">\n      <th></th>\n      <th>Morpheme</th>\n      <th>Counts</th>\n      <th>upos</th>\n    </tr>\n  </thead>\n  <tbody>\n    <tr>\n      <th>199</th>\n      <td>கள்</td>\n      <td>220</td>\n      <td>N</td>\n    </tr>\n    <tr>\n      <th>16</th>\n      <td>யில்</td>\n      <td>166</td>\n      <td>N</td>\n    </tr>\n    <tr>\n      <th>18</th>\n      <td>ம்</td>\n      <td>144</td>\n      <td>V</td>\n    </tr>\n    <tr>\n      <th>3</th>\n      <td>ில்</td>\n      <td>136</td>\n      <td>N</td>\n    </tr>\n    <tr>\n      <th>80</th>\n      <td>ப்</td>\n      <td>111</td>\n      <td>V</td>\n    </tr>\n  </tbody>\n</table>\n</div>",
      "text/plain": "    Morpheme  Counts upos\n199      கள்     220    N\n16      யில்     166    N\n18        ம்     144    V\n3        ில்     136    N\n80        ப்     111    V"
     },
     "execution_count": 148,
     "metadata": {},
     "output_type": "execute_result"
    }
   ],
   "source": [
    "#Cleaning up to only get the noun and verb morphemes along with their value counts\r\n",
    "columns = ['Morpheme', 'Counts','upos']\r\n",
    "adjusted_morpheme_df = pd.DataFrame(columns = columns)\r\n",
    "adjusted_morpheme_df[\"Morpheme\"] = merged_df[\"Morpheme\"]\r\n",
    "adjusted_morpheme_df[\"Counts\"] = merged_df[\"Counts\"]\r\n",
    "adjusted_morpheme_df[\"upos\"] = merged_df[\"upos\"]\r\n",
    "adjusted_morpheme_df = adjusted_morpheme_df.drop_duplicates(subset = [\"Morpheme\"])\r\n",
    "adjusted_morpheme_df = adjusted_morpheme_df.sort_values(by='Counts', ascending=False)\r\n",
    "adjusted_morpheme_df.head()"
   ]
  },
  {
   "cell_type": "code",
   "execution_count": 146,
   "metadata": {},
   "outputs": [
    {
     "data": {
      "text/plain": "381"
     },
     "execution_count": 146,
     "metadata": {},
     "output_type": "execute_result"
    }
   ],
   "source": [
    "len(adjusted_morpheme_df.Morpheme)"
   ]
  },
  {
   "cell_type": "code",
   "execution_count": null,
   "metadata": {},
   "outputs": [],
   "source": [
    "#Need to add condition to consider morpheme connected to previous word as a full morpheme"
   ]
  }
 ],
 "metadata": {
  "kernelspec": {
   "display_name": "Python 3.8.5 64-bit (conda)",
   "name": "python385jvsc74a57bd0acf47b83519c56191d0c3841e12beeb775e3446d2e4f4edc07386d3a55ce7a5e"
  },
  "language_info": {
   "codemirror_mode": {
    "name": "ipython",
    "version": 3
   },
   "file_extension": ".py",
   "mimetype": "text/x-python",
   "name": "python",
   "nbconvert_exporter": "python",
   "pygments_lexer": "ipython3",
   "version": "3.8.5"
  },
  "metadata": {
   "interpreter": {
    "hash": "f5d60b673bbbc194a180925bc8001f1badeda51edade5ea1395c8bd32b859e19"
   }
  }
 },
 "nbformat": 4,
 "nbformat_minor": 2
}