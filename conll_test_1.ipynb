{
 "cells": [
  {
   "cell_type": "code",
   "execution_count": 7,
   "metadata": {},
   "outputs": [],
   "source": [
    "#my reference: https://pypi.org/project/conllu/"
   ]
  },
  {
   "cell_type": "code",
   "execution_count": null,
   "metadata": {},
   "outputs": [],
   "source": [
    "pip install conllu==3.1.1"
   ]
  },
  {
   "cell_type": "code",
   "execution_count": 10,
   "metadata": {},
   "outputs": [],
   "source": [
    "from io import open\r\n",
    "from conllu import parse_tree_incr\r\n",
    "from conllu import parse_incr\r\n",
    "from conllu import parse\r\n",
    "from collections import OrderedDict\r\n",
    "import pandas as pd"
   ]
  },
  {
   "cell_type": "code",
   "execution_count": 11,
   "metadata": {},
   "outputs": [],
   "source": [
    "file = 'TamilTB.v0.1\\data\\TamilTB.v0.1.utf8.conll'\r\n",
    "data_file = open(file, \"r\", encoding=\"utf-8\")\r\n"
   ]
  },
  {
   "cell_type": "code",
   "execution_count": 13,
   "metadata": {},
   "outputs": [
    {
     "data": {
      "text/html": "<div>\n<style scoped>\n    .dataframe tbody tr th:only-of-type {\n        vertical-align: middle;\n    }\n\n    .dataframe tbody tr th {\n        vertical-align: top;\n    }\n\n    .dataframe thead th {\n        text-align: right;\n    }\n</style>\n<table border=\"1\" class=\"dataframe\">\n  <thead>\n    <tr style=\"text-align: right;\">\n      <th></th>\n      <th>id</th>\n      <th>form</th>\n      <th>lemma</th>\n      <th>upos</th>\n      <th>xpos</th>\n      <th>feats</th>\n      <th>head</th>\n    </tr>\n  </thead>\n  <tbody>\n    <tr>\n      <th>0</th>\n      <td>1</td>\n      <td>சென்னை</td>\n      <td>சென்னை</td>\n      <td>N</td>\n      <td>NEN-3SN--</td>\n      <td>{'Cas': 'N', 'Per': '3', 'Num': 'S', 'Gen': 'N'}</td>\n      <td>2</td>\n    </tr>\n    <tr>\n      <th>1</th>\n      <td>2</td>\n      <td>அருகே</td>\n      <td>அருகே</td>\n      <td>P</td>\n      <td>PP-------</td>\n      <td>None</td>\n      <td>18</td>\n    </tr>\n    <tr>\n      <th>2</th>\n      <td>3</td>\n      <td>ஸ்ரீ</td>\n      <td>ஸ்ரீ</td>\n      <td>N</td>\n      <td>NEN-3SN--</td>\n      <td>{'Cas': 'N', 'Per': '3', 'Num': 'S', 'Gen': 'N'}</td>\n      <td>4</td>\n    </tr>\n    <tr>\n      <th>3</th>\n      <td>4</td>\n      <td>பெரும்புதூரில்</td>\n      <td>பெரும்புதூர்</td>\n      <td>N</td>\n      <td>NEL-3SN--</td>\n      <td>{'Cas': 'L', 'Per': '3', 'Num': 'S', 'Gen': 'N'}</td>\n      <td>18</td>\n    </tr>\n    <tr>\n      <th>4</th>\n      <td>5</td>\n      <td>கிரீன்</td>\n      <td>கிரீன்</td>\n      <td>N</td>\n      <td>NEN-3SN--</td>\n      <td>{'Cas': 'N', 'Per': '3', 'Num': 'S', 'Gen': 'N'}</td>\n      <td>6</td>\n    </tr>\n  </tbody>\n</table>\n</div>",
      "text/plain": "  id            form         lemma upos       xpos  \\\n0  1          சென்னை        சென்னை    N  NEN-3SN--   \n1  2           அருகே         அருகே    P  PP-------   \n2  3            ஸ்ரீ          ஸ்ரீ    N  NEN-3SN--   \n3  4  பெரும்புதூரில்  பெரும்புதூர்    N  NEL-3SN--   \n4  5          கிரீன்        கிரீன்    N  NEN-3SN--   \n\n                                              feats head  \n0  {'Cas': 'N', 'Per': '3', 'Num': 'S', 'Gen': 'N'}    2  \n1                                              None   18  \n2  {'Cas': 'N', 'Per': '3', 'Num': 'S', 'Gen': 'N'}    4  \n3  {'Cas': 'L', 'Per': '3', 'Num': 'S', 'Gen': 'N'}   18  \n4  {'Cas': 'N', 'Per': '3', 'Num': 'S', 'Gen': 'N'}    6  "
     },
     "execution_count": 13,
     "metadata": {},
     "output_type": "execute_result"
    }
   ],
   "source": [
    "columns = ['id', 'form', 'lemma', 'upos', 'xpos', 'feats', 'head']\r\n",
    "df = pd.DataFrame(columns = columns)\r\n",
    "for tokenlist in parse_incr(data_file):\r\n",
    "    for word in tokenlist:\r\n",
    "        df = df.append({'id': word[\"id\"], \r\n",
    "                        'form' : word[\"form\"],\r\n",
    "                        'lemma' : word[\"lemma\"],\r\n",
    "                        'upos' : word[\"upos\"],\r\n",
    "                        'xpos' : word[\"xpos\"],\r\n",
    "                        'feats' : word[\"feats\"],\r\n",
    "                        'head' : word[\"head\"]},\r\n",
    "                        ignore_index = True\r\n",
    "                        )\r\n",
    "df.head()\r\n",
    "\r\n",
    "\r\n",
    "\r\n",
    "    \r\n"
   ]
  }
 ],
 "metadata": {
  "kernelspec": {
   "display_name": "Python 3.7.6 64-bit",
   "name": "python376jvsc74a57bd0f5d60b673bbbc194a180925bc8001f1badeda51edade5ea1395c8bd32b859e19"
  },
  "language_info": {
   "codemirror_mode": {
    "name": "ipython",
    "version": 3
   },
   "file_extension": ".py",
   "mimetype": "text/x-python",
   "name": "python",
   "nbconvert_exporter": "python",
   "pygments_lexer": "ipython3",
   "version": "3.7.6"
  },
  "metadata": {
   "interpreter": {
    "hash": "f5d60b673bbbc194a180925bc8001f1badeda51edade5ea1395c8bd32b859e19"
   }
  }
 },
 "nbformat": 4,
 "nbformat_minor": 2
}