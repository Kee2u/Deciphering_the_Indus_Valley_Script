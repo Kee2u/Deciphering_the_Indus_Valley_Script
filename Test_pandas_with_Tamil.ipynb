{
 "cells": [
  {
   "cell_type": "code",
   "execution_count": 1,
   "metadata": {},
   "outputs": [],
   "source": [
    "import pandas as pd\r\n",
    "import os"
   ]
  },
  {
   "cell_type": "code",
   "execution_count": 6,
   "metadata": {},
   "outputs": [
    {
     "name": "stdout",
     "output_type": "stream",
     "text": [
      "['கணிய்', 'நந்தஅ']\n"
     ]
    }
   ],
   "source": [
    "name =  'கணிய் நந்தஅ'\r\n",
    "print (name.split())"
   ]
  },
  {
   "cell_type": "code",
   "execution_count": 19,
   "metadata": {},
   "outputs": [
    {
     "data": {
      "text/plain": "['க', 'ு', 'ற', 'ு', 'ம', '்', 'ம', 'க', 'ள', '்']"
     },
     "execution_count": 19,
     "metadata": {},
     "output_type": "execute_result"
    }
   ],
   "source": [
    "word = 'குறும்மகள்'              # option 1, \r\n",
    "wordlist = [ch for ch in word] \r\n",
    "wordlist"
   ]
  },
  {
   "cell_type": "code",
   "execution_count": 14,
   "metadata": {},
   "outputs": [
    {
     "name": "stdout",
     "output_type": "stream",
     "text": [
      "False\n"
     ]
    }
   ],
   "source": [
    "if wordlist[1] == 'ந':\r\n",
    "    print (\"True\")\r\n",
    "else:\r\n",
    "    print (\"False\")"
   ]
  }
 ],
 "metadata": {
  "kernelspec": {
   "display_name": "Python 3.8.5 64-bit ('base': conda)",
   "name": "python385jvsc74a57bd0acf47b83519c56191d0c3841e12beeb775e3446d2e4f4edc07386d3a55ce7a5e"
  },
  "language_info": {
   "name": "python",
   "version": ""
  },
  "orig_nbformat": 2
 },
 "nbformat": 4,
 "nbformat_minor": 2
}