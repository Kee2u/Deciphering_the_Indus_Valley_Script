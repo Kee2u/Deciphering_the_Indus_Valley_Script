{
 "cells": [
  {
   "cell_type": "code",
   "execution_count": 1,
   "metadata": {},
   "outputs": [
    {
     "name": "stdout",
     "output_type": "stream",
     "text": [
      "Requirement already satisfied: conllu==3.1.1 in c:\\users\\sonia\\anaconda3\\envs\\pythondata\\lib\\site-packages (3.1.1)\n",
      "Note: you may need to restart the kernel to use updated packages.\n"
     ]
    }
   ],
   "source": [
    "pip install conllu==3.1.1"
   ]
  },
  {
   "cell_type": "code",
   "execution_count": 2,
   "metadata": {},
   "outputs": [
    {
     "name": "stdout",
     "output_type": "stream",
     "text": [
      "Requirement already satisfied: conll-df in c:\\users\\sonia\\anaconda3\\envs\\pythondata\\lib\\site-packages (0.0.4)Note: you may need to restart the kernel to use updated packages.\n",
      "Requirement already satisfied: pandas>=0.19.2 in c:\\users\\sonia\\anaconda3\\envs\\pythondata\\lib\\site-packages (from conll-df) (1.1.3)\n",
      "Requirement already satisfied: python-dateutil>=2.7.3 in c:\\users\\sonia\\anaconda3\\envs\\pythondata\\lib\\site-packages (from pandas>=0.19.2->conll-df) (2.8.1)\n",
      "Requirement already satisfied: numpy>=1.15.4 in c:\\users\\sonia\\anaconda3\\envs\\pythondata\\lib\\site-packages (from pandas>=0.19.2->conll-df) (1.19.5)\n",
      "Requirement already satisfied: pytz>=2017.2 in c:\\users\\sonia\\anaconda3\\envs\\pythondata\\lib\\site-packages (from pandas>=0.19.2->conll-df) (2020.1)\n",
      "Requirement already satisfied: six>=1.5 in c:\\users\\sonia\\appdata\\roaming\\python\\python37\\site-packages (from python-dateutil>=2.7.3->pandas>=0.19.2->conll-df) (1.15.0)\n",
      "\n"
     ]
    }
   ],
   "source": [
    "pip install conll-df"
   ]
  },
  {
   "cell_type": "code",
   "execution_count": 31,
   "metadata": {},
   "outputs": [],
   "source": [
    "from io import open\n",
    "from conllu import parse_tree_incr\n",
    "from conllu import parse_incr\n",
    "from conllu import parse\n",
    "from collections import OrderedDict\n",
    "import pandas as pd\n",
    "import itertools\n",
    "import re"
   ]
  },
  {
   "cell_type": "code",
   "execution_count": 32,
   "metadata": {},
   "outputs": [],
   "source": [
    "file = 'TamilTB.v0.1\\data\\TamilTB.v0.1.utf8.conll'\n",
    "data_file = open(file, \"r\", encoding=\"utf-8\")"
   ]
  },
  {
   "cell_type": "code",
   "execution_count": 33,
   "metadata": {},
   "outputs": [],
   "source": [
    "#Setting precision of dataframe as 0\n",
    "pd.set_option('precision', 0)\n",
    "\n",
    "#Setting Dataframe display to max\n",
    "pd.set_option('display.max_rows', None)"
   ]
  },
  {
   "cell_type": "code",
   "execution_count": 34,
   "metadata": {},
   "outputs": [],
   "source": [
    "from io import open\n",
    "from conllu import parse_incr\n",
    "\n",
    "data_file = open(file, \"r\", encoding=\"utf-8\")\n",
    "# for tokenlist in parse_incr(data_file):\n",
    "#     print(tokenlist)"
   ]
  },
  {
   "cell_type": "code",
   "execution_count": 10,
   "metadata": {},
   "outputs": [
    {
     "data": {
      "text/plain": [
       "Token([('id', 2),\n",
       "       ('form', 'ஆண்டில்'),\n",
       "       ('lemma', 'ஆண்டு'),\n",
       "       ('upos', 'N'),\n",
       "       ('xpos', 'NNL-3SN--'),\n",
       "       ('feats',\n",
       "        OrderedDict([('Cas', 'L'), ('Per', '3'), ('Num', 'S'), ('Gen', 'N')])),\n",
       "       ('head', 9),\n",
       "       ('deprel', 'AAdjn'),\n",
       "       ('deps', None),\n",
       "       ('misc', None)])"
      ]
     },
     "execution_count": 10,
     "metadata": {},
     "output_type": "execute_result"
    }
   ],
   "source": [
    "# tokenlist[1]"
   ]
  },
  {
   "cell_type": "code",
   "execution_count": 12,
   "metadata": {},
   "outputs": [
    {
     "name": "stdout",
     "output_type": "stream",
     "text": [
      "2022-ம்\n",
      "ஆண்டில்\n",
      "gஎர்மனியில்\n",
      "அணுஉலைக்\n",
      "கூடங்கள்\n",
      "ஏ\n",
      "இல்லாத\n",
      "நிலை\n",
      "ஏற்பட\n",
      "வேண்டும்\n",
      "என்பது\n",
      "தான்\n",
      "அது\n",
      ".\n"
     ]
    }
   ],
   "source": [
    "# for row in tokenlist:\n",
    "#     print(row['form'])"
   ]
  },
  {
   "cell_type": "code",
   "execution_count": 35,
   "metadata": {},
   "outputs": [
    {
     "data": {
      "text/html": [
       "<div>\n",
       "<style scoped>\n",
       "    .dataframe tbody tr th:only-of-type {\n",
       "        vertical-align: middle;\n",
       "    }\n",
       "\n",
       "    .dataframe tbody tr th {\n",
       "        vertical-align: top;\n",
       "    }\n",
       "\n",
       "    .dataframe thead th {\n",
       "        text-align: right;\n",
       "    }\n",
       "</style>\n",
       "<table border=\"1\" class=\"dataframe\">\n",
       "  <thead>\n",
       "    <tr style=\"text-align: right;\">\n",
       "      <th></th>\n",
       "      <th>id</th>\n",
       "      <th>form</th>\n",
       "      <th>lemma</th>\n",
       "      <th>upos</th>\n",
       "      <th>xpos</th>\n",
       "      <th>feats</th>\n",
       "      <th>head</th>\n",
       "      <th>Morpheme</th>\n",
       "    </tr>\n",
       "  </thead>\n",
       "  <tbody>\n",
       "    <tr>\n",
       "      <th>0</th>\n",
       "      <td>1</td>\n",
       "      <td>சென்னை</td>\n",
       "      <td>சென்னை</td>\n",
       "      <td>N</td>\n",
       "      <td>NEN-3SN--</td>\n",
       "      <td>{'Cas': 'N', 'Per': '3', 'Num': 'S', 'Gen': 'N'}</td>\n",
       "      <td>2</td>\n",
       "      <td>NaN</td>\n",
       "    </tr>\n",
       "    <tr>\n",
       "      <th>1</th>\n",
       "      <td>2</td>\n",
       "      <td>அருகே</td>\n",
       "      <td>அருகே</td>\n",
       "      <td>P</td>\n",
       "      <td>PP-------</td>\n",
       "      <td>None</td>\n",
       "      <td>18</td>\n",
       "      <td>NaN</td>\n",
       "    </tr>\n",
       "    <tr>\n",
       "      <th>2</th>\n",
       "      <td>3</td>\n",
       "      <td>ஸ்ரீ</td>\n",
       "      <td>ஸ்ரீ</td>\n",
       "      <td>N</td>\n",
       "      <td>NEN-3SN--</td>\n",
       "      <td>{'Cas': 'N', 'Per': '3', 'Num': 'S', 'Gen': 'N'}</td>\n",
       "      <td>4</td>\n",
       "      <td>NaN</td>\n",
       "    </tr>\n",
       "    <tr>\n",
       "      <th>3</th>\n",
       "      <td>4</td>\n",
       "      <td>பெரும்புதூரில்</td>\n",
       "      <td>பெரும்புதூர்</td>\n",
       "      <td>N</td>\n",
       "      <td>NEL-3SN--</td>\n",
       "      <td>{'Cas': 'L', 'Per': '3', 'Num': 'S', 'Gen': 'N'}</td>\n",
       "      <td>18</td>\n",
       "      <td>NaN</td>\n",
       "    </tr>\n",
       "    <tr>\n",
       "      <th>4</th>\n",
       "      <td>5</td>\n",
       "      <td>கிரீன்</td>\n",
       "      <td>கிரீன்</td>\n",
       "      <td>N</td>\n",
       "      <td>NEN-3SN--</td>\n",
       "      <td>{'Cas': 'N', 'Per': '3', 'Num': 'S', 'Gen': 'N'}</td>\n",
       "      <td>6</td>\n",
       "      <td>NaN</td>\n",
       "    </tr>\n",
       "    <tr>\n",
       "      <th>5</th>\n",
       "      <td>6</td>\n",
       "      <td>பீல்டு</td>\n",
       "      <td>பீல்டு</td>\n",
       "      <td>N</td>\n",
       "      <td>NEN-3SN--</td>\n",
       "      <td>{'Cas': 'N', 'Per': '3', 'Num': 'S', 'Gen': 'N'}</td>\n",
       "      <td>11</td>\n",
       "      <td>NaN</td>\n",
       "    </tr>\n",
       "    <tr>\n",
       "      <th>6</th>\n",
       "      <td>7</td>\n",
       "      <td>(</td>\n",
       "      <td>(</td>\n",
       "      <td>Z</td>\n",
       "      <td>Z:-------</td>\n",
       "      <td>None</td>\n",
       "      <td>6</td>\n",
       "      <td>NaN</td>\n",
       "    </tr>\n",
       "    <tr>\n",
       "      <th>7</th>\n",
       "      <td>8</td>\n",
       "      <td>நவீன</td>\n",
       "      <td>நவீனம்</td>\n",
       "      <td>J</td>\n",
       "      <td>JJ-------</td>\n",
       "      <td>None</td>\n",
       "      <td>6</td>\n",
       "      <td>NaN</td>\n",
       "    </tr>\n",
       "    <tr>\n",
       "      <th>8</th>\n",
       "      <td>9</td>\n",
       "      <td>)</td>\n",
       "      <td>)</td>\n",
       "      <td>Z</td>\n",
       "      <td>Z:-------</td>\n",
       "      <td>None</td>\n",
       "      <td>6</td>\n",
       "      <td>NaN</td>\n",
       "    </tr>\n",
       "    <tr>\n",
       "      <th>9</th>\n",
       "      <td>10</td>\n",
       "      <td>விமான</td>\n",
       "      <td>விமானம்</td>\n",
       "      <td>N</td>\n",
       "      <td>NO--3SN--</td>\n",
       "      <td>{'Per': '3', 'Num': 'S', 'Gen': 'N'}</td>\n",
       "      <td>11</td>\n",
       "      <td>NaN</td>\n",
       "    </tr>\n",
       "  </tbody>\n",
       "</table>\n",
       "</div>"
      ],
      "text/plain": [
       "   id            form         lemma upos       xpos  \\\n",
       "0   1          சென்னை        சென்னை    N  NEN-3SN--   \n",
       "1   2           அருகே         அருகே    P  PP-------   \n",
       "2   3            ஸ்ரீ          ஸ்ரீ    N  NEN-3SN--   \n",
       "3   4  பெரும்புதூரில்  பெரும்புதூர்    N  NEL-3SN--   \n",
       "4   5          கிரீன்        கிரீன்    N  NEN-3SN--   \n",
       "5   6          பீல்டு        பீல்டு    N  NEN-3SN--   \n",
       "6   7               (             (    Z  Z:-------   \n",
       "7   8            நவீன        நவீனம்    J  JJ-------   \n",
       "8   9               )             )    Z  Z:-------   \n",
       "9  10           விமான       விமானம்    N  NO--3SN--   \n",
       "\n",
       "                                              feats head Morpheme  \n",
       "0  {'Cas': 'N', 'Per': '3', 'Num': 'S', 'Gen': 'N'}    2      NaN  \n",
       "1                                              None   18      NaN  \n",
       "2  {'Cas': 'N', 'Per': '3', 'Num': 'S', 'Gen': 'N'}    4      NaN  \n",
       "3  {'Cas': 'L', 'Per': '3', 'Num': 'S', 'Gen': 'N'}   18      NaN  \n",
       "4  {'Cas': 'N', 'Per': '3', 'Num': 'S', 'Gen': 'N'}    6      NaN  \n",
       "5  {'Cas': 'N', 'Per': '3', 'Num': 'S', 'Gen': 'N'}   11      NaN  \n",
       "6                                              None    6      NaN  \n",
       "7                                              None    6      NaN  \n",
       "8                                              None    6      NaN  \n",
       "9              {'Per': '3', 'Num': 'S', 'Gen': 'N'}   11      NaN  "
      ]
     },
     "execution_count": 35,
     "metadata": {},
     "output_type": "execute_result"
    }
   ],
   "source": [
    "#Converting conll to a dataframe\n",
    "columns = ['id', 'form', 'lemma', 'upos', 'xpos', 'feats', 'head', 'Morpheme']\n",
    "df = pd.DataFrame(columns = columns)\n",
    "for tokenlist in parse_incr(data_file):\n",
    "    for word in tokenlist:\n",
    "        df = df.append({'id': word[\"id\"], \n",
    "                        'form' : word[\"form\"],\n",
    "                        'lemma' : word[\"lemma\"],\n",
    "                        'upos' : word[\"upos\"],\n",
    "                        'xpos' : word[\"xpos\"],\n",
    "                        'feats' : word[\"feats\"],\n",
    "                        'head' : word[\"head\"]},\n",
    "                        ignore_index = True\n",
    "                        )\n",
    "df.head(10)"
   ]
  },
  {
   "cell_type": "code",
   "execution_count": 38,
   "metadata": {},
   "outputs": [
    {
     "data": {
      "text/plain": [
       "pandas.core.series.Series"
      ]
     },
     "execution_count": 38,
     "metadata": {},
     "output_type": "execute_result"
    }
   ],
   "source": [
    "type(df[\"form\"])"
   ]
  },
  {
   "cell_type": "code",
   "execution_count": null,
   "metadata": {},
   "outputs": [],
   "source": []
  }
 ],
 "metadata": {
  "kernelspec": {
   "display_name": "PythonData",
   "language": "python",
   "name": "pythondata"
  },
  "language_info": {
   "codemirror_mode": {
    "name": "ipython",
    "version": 3
   },
   "file_extension": ".py",
   "mimetype": "text/x-python",
   "name": "python",
   "nbconvert_exporter": "python",
   "pygments_lexer": "ipython3",
   "version": "3.7.9"
  }
 },
 "nbformat": 4,
 "nbformat_minor": 4
}
