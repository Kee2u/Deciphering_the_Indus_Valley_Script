{
 "cells": [
  {
   "cell_type": "code",
   "execution_count": 12,
   "metadata": {},
   "outputs": [
    {
     "name": "stdout",
     "output_type": "stream",
     "text": [
      "Collecting conll-dfNote: you may need to restart the kernel to use updated packages.\n"
     ]
    },
    {
     "name": "stderr",
     "output_type": "stream",
     "text": [
      "WARNING: You are using pip version 19.2.3, however version 21.0.1 is available.\n",
      "You should consider upgrading via the 'python -m pip install --upgrade pip' command.\n"
     ]
    },
    {
     "name": "stdout",
     "output_type": "stream",
     "text": [
      "\n",
      "  Downloading https://files.pythonhosted.org/packages/eb/fe/a562090ef7651a00f2696aa384279724ed1f6f90f1b2b5e7a98fb9bb151f/conll_df-0.0.4.tar.gz\n",
      "Requirement already satisfied: pandas>=0.19.2 in c:\\users\\keetu\\appdata\\local\\programs\\python\\python37\\lib\\site-packages (from conll-df) (1.2.3)\n",
      "Requirement already satisfied: python-dateutil>=2.7.3 in c:\\users\\keetu\\appdata\\roaming\\python\\python37\\site-packages (from pandas>=0.19.2->conll-df) (2.8.1)\n",
      "Requirement already satisfied: pytz>=2017.3 in c:\\users\\keetu\\appdata\\local\\programs\\python\\python37\\lib\\site-packages (from pandas>=0.19.2->conll-df) (2021.1)\n",
      "Requirement already satisfied: numpy>=1.16.5 in c:\\users\\keetu\\appdata\\local\\programs\\python\\python37\\lib\\site-packages (from pandas>=0.19.2->conll-df) (1.20.2)\n",
      "Requirement already satisfied: six>=1.5 in c:\\users\\keetu\\appdata\\roaming\\python\\python37\\site-packages (from python-dateutil>=2.7.3->pandas>=0.19.2->conll-df) (1.15.0)\n",
      "Installing collected packages: conll-df\n",
      "  Running setup.py install for conll-df: started\n",
      "    Running setup.py install for conll-df: finished with status 'done'\n",
      "Successfully installed conll-df-0.0.4\n"
     ]
    }
   ],
   "source": [
    "pip install conll-df"
   ]
  },
  {
   "cell_type": "code",
   "execution_count": 14,
   "metadata": {},
   "outputs": [
    {
     "ename": "UnicodeDecodeError",
     "evalue": "'charmap' codec can't decode byte 0x8d in position 13: character maps to <undefined>",
     "output_type": "error",
     "traceback": [
      "\u001b[1;31m---------------------------------------------------------------------------\u001b[0m",
      "\u001b[1;31mUnicodeDecodeError\u001b[0m                        Traceback (most recent call last)",
      "\u001b[1;32m<ipython-input-14-8ea1552f5526>\u001b[0m in \u001b[0;36m<module>\u001b[1;34m\u001b[0m\n\u001b[0;32m      2\u001b[0m \u001b[1;32mfrom\u001b[0m \u001b[0mconll_df\u001b[0m \u001b[1;32mimport\u001b[0m \u001b[0mconll_df\u001b[0m\u001b[1;33m\u001b[0m\u001b[1;33m\u001b[0m\u001b[0m\n\u001b[0;32m      3\u001b[0m \u001b[0mpath\u001b[0m \u001b[1;33m=\u001b[0m \u001b[1;34m\"TamilTB.v0.1.utf8.conll\"\u001b[0m\u001b[1;33m\u001b[0m\u001b[1;33m\u001b[0m\u001b[0m\n\u001b[1;32m----> 4\u001b[1;33m \u001b[0mdf\u001b[0m \u001b[1;33m=\u001b[0m \u001b[0mconll_df\u001b[0m\u001b[1;33m(\u001b[0m\u001b[0mpath\u001b[0m\u001b[1;33m,\u001b[0m \u001b[0mfile_index\u001b[0m\u001b[1;33m=\u001b[0m\u001b[1;32mFalse\u001b[0m\u001b[1;33m)\u001b[0m\u001b[1;33m\u001b[0m\u001b[1;33m\u001b[0m\u001b[0m\n\u001b[0m\u001b[0;32m      5\u001b[0m \u001b[0mdf\u001b[0m\u001b[1;33m.\u001b[0m\u001b[0mhead\u001b[0m\u001b[1;33m(\u001b[0m\u001b[1;36m3\u001b[0m\u001b[1;33m)\u001b[0m\u001b[1;33m\u001b[0m\u001b[1;33m\u001b[0m\u001b[0m\n",
      "\u001b[1;32m~\\AppData\\Local\\Programs\\Python\\Python37\\lib\\site-packages\\conll_df\\conll_df.py\u001b[0m in \u001b[0;36mconll_df\u001b[1;34m(path, corpus_name, corp_folder, v2, skip_morph, skip_meta, add_gov, drop, file_index, categories, extra_fields, drop_redundant, **kwargs)\u001b[0m\n\u001b[0;32m    120\u001b[0m \u001b[1;33m\u001b[0m\u001b[0m\n\u001b[0;32m    121\u001b[0m     \u001b[1;32mwith\u001b[0m \u001b[0mopen\u001b[0m\u001b[1;33m(\u001b[0m\u001b[0mpath\u001b[0m\u001b[1;33m,\u001b[0m \u001b[1;34m'r'\u001b[0m\u001b[1;33m)\u001b[0m \u001b[1;32mas\u001b[0m \u001b[0mfo\u001b[0m\u001b[1;33m:\u001b[0m\u001b[1;33m\u001b[0m\u001b[1;33m\u001b[0m\u001b[0m\n\u001b[1;32m--> 122\u001b[1;33m         \u001b[0mdata\u001b[0m \u001b[1;33m=\u001b[0m \u001b[0mfo\u001b[0m\u001b[1;33m.\u001b[0m\u001b[0mread\u001b[0m\u001b[1;33m(\u001b[0m\u001b[1;33m)\u001b[0m\u001b[1;33m.\u001b[0m\u001b[0mstrip\u001b[0m\u001b[1;33m(\u001b[0m\u001b[1;34m'\\n'\u001b[0m\u001b[1;33m)\u001b[0m\u001b[1;33m\u001b[0m\u001b[1;33m\u001b[0m\u001b[0m\n\u001b[0m\u001b[0;32m    123\u001b[0m \u001b[1;33m\u001b[0m\u001b[0m\n\u001b[0;32m    124\u001b[0m     \u001b[1;32mif\u001b[0m \u001b[0mv2\u001b[0m \u001b[1;33m==\u001b[0m \u001b[1;34m'auto'\u001b[0m\u001b[1;33m:\u001b[0m\u001b[1;33m\u001b[0m\u001b[1;33m\u001b[0m\u001b[0m\n",
      "\u001b[1;32m~\\AppData\\Local\\Programs\\Python\\Python37\\lib\\encodings\\cp1252.py\u001b[0m in \u001b[0;36mdecode\u001b[1;34m(self, input, final)\u001b[0m\n\u001b[0;32m     21\u001b[0m \u001b[1;32mclass\u001b[0m \u001b[0mIncrementalDecoder\u001b[0m\u001b[1;33m(\u001b[0m\u001b[0mcodecs\u001b[0m\u001b[1;33m.\u001b[0m\u001b[0mIncrementalDecoder\u001b[0m\u001b[1;33m)\u001b[0m\u001b[1;33m:\u001b[0m\u001b[1;33m\u001b[0m\u001b[1;33m\u001b[0m\u001b[0m\n\u001b[0;32m     22\u001b[0m     \u001b[1;32mdef\u001b[0m \u001b[0mdecode\u001b[0m\u001b[1;33m(\u001b[0m\u001b[0mself\u001b[0m\u001b[1;33m,\u001b[0m \u001b[0minput\u001b[0m\u001b[1;33m,\u001b[0m \u001b[0mfinal\u001b[0m\u001b[1;33m=\u001b[0m\u001b[1;32mFalse\u001b[0m\u001b[1;33m)\u001b[0m\u001b[1;33m:\u001b[0m\u001b[1;33m\u001b[0m\u001b[1;33m\u001b[0m\u001b[0m\n\u001b[1;32m---> 23\u001b[1;33m         \u001b[1;32mreturn\u001b[0m \u001b[0mcodecs\u001b[0m\u001b[1;33m.\u001b[0m\u001b[0mcharmap_decode\u001b[0m\u001b[1;33m(\u001b[0m\u001b[0minput\u001b[0m\u001b[1;33m,\u001b[0m\u001b[0mself\u001b[0m\u001b[1;33m.\u001b[0m\u001b[0merrors\u001b[0m\u001b[1;33m,\u001b[0m\u001b[0mdecoding_table\u001b[0m\u001b[1;33m)\u001b[0m\u001b[1;33m[\u001b[0m\u001b[1;36m0\u001b[0m\u001b[1;33m]\u001b[0m\u001b[1;33m\u001b[0m\u001b[1;33m\u001b[0m\u001b[0m\n\u001b[0m\u001b[0;32m     24\u001b[0m \u001b[1;33m\u001b[0m\u001b[0m\n\u001b[0;32m     25\u001b[0m \u001b[1;32mclass\u001b[0m \u001b[0mStreamWriter\u001b[0m\u001b[1;33m(\u001b[0m\u001b[0mCodec\u001b[0m\u001b[1;33m,\u001b[0m\u001b[0mcodecs\u001b[0m\u001b[1;33m.\u001b[0m\u001b[0mStreamWriter\u001b[0m\u001b[1;33m)\u001b[0m\u001b[1;33m:\u001b[0m\u001b[1;33m\u001b[0m\u001b[1;33m\u001b[0m\u001b[0m\n",
      "\u001b[1;31mUnicodeDecodeError\u001b[0m: 'charmap' codec can't decode byte 0x8d in position 13: character maps to <undefined>"
     ]
    }
   ],
   "source": [
    "import pandas as pd\r\n",
    "from conll_df import conll_df\r\n",
    "path = \"TamilTB.v0.1.utf8.conll\"\r\n",
    "df = conll_df(path, file_index=False)\r\n",
    "df.head(3)"
   ]
  },
  {
   "cell_type": "code",
   "execution_count": 7,
   "metadata": {},
   "outputs": [],
   "source": [
    "import pyconll"
   ]
  },
  {
   "cell_type": "code",
   "execution_count": 9,
   "metadata": {},
   "outputs": [],
   "source": [
    "my_conll_file_location = \"TamilTB.v0.1.utf8.conll\"\r\n",
    "train = pyconll.load_from_file(my_conll_file_location)"
   ]
  },
  {
   "cell_type": "code",
   "execution_count": 11,
   "metadata": {},
   "outputs": [
    {
     "name": "stdout",
     "output_type": "stream",
     "text": [
      "<pyconll.unit.conll.Conll object at 0x00000272F7E04CC8>\n"
     ]
    }
   ],
   "source": [
    "print(train)"
   ]
  },
  {
   "cell_type": "code",
   "execution_count": 18,
   "metadata": {},
   "outputs": [
    {
     "name": "stderr",
     "output_type": "stream",
     "text": [
      "WARNING: You are using pip version 19.2.3, however version 21.0.1 is available.\n",
      "You should consider upgrading via the 'python -m pip install --upgrade pip' command.\n"
     ]
    },
    {
     "name": "stdout",
     "output_type": "stream",
     "text": [
      "Collecting stanza\n",
      "  Downloading https://files.pythonhosted.org/packages/50/ae/a70a58ce6b4e2daad538688806ee0f238dbe601954582a74ea57cde6c532/stanza-1.2-py3-none-any.whl (282kB)\n",
      "Collecting torch>=1.3.0 (from stanza)\n",
      "  Downloading https://files.pythonhosted.org/packages/ff/4d/8393a4f9d7113c2f0db341aea7d312ae7fb41288ce867b72c8940ebddf01/torch-1.8.1-cp37-cp37m-win_amd64.whl (190.5MB)\n",
      "Requirement already satisfied: numpy in c:\\users\\keetu\\appdata\\local\\programs\\python\\python37\\lib\\site-packages (from stanza) (1.20.2)\n",
      "Requirement already satisfied: requests in c:\\users\\keetu\\appdata\\local\\programs\\python\\python37\\lib\\site-packages (from stanza) (2.25.1)\n",
      "Collecting protobuf (from stanza)\n",
      "  Downloading https://files.pythonhosted.org/packages/ff/1c/b0a4c430d2f1276b1bc2f131c264b9e5ffaba7093a28e94f6c08cf591f6b/protobuf-3.15.8-cp37-cp37m-win_amd64.whl (904kB)\n",
      "Collecting tqdm (from stanza)\n",
      "  Downloading https://files.pythonhosted.org/packages/72/8a/34efae5cf9924328a8f34eeb2fdaae14c011462d9f0e3fcded48e1266d1c/tqdm-4.60.0-py2.py3-none-any.whl (75kB)\n",
      "Collecting typing-extensions (from torch>=1.3.0->stanza)\n",
      "  Downloading https://files.pythonhosted.org/packages/60/7a/e881b5abb54db0e6e671ab088d079c57ce54e8a01a3ca443f561ccadb37e/typing_extensions-3.7.4.3-py3-none-any.whl\n",
      "Requirement already satisfied: urllib3<1.27,>=1.21.1 in c:\\users\\keetu\\appdata\\local\\programs\\python\\python37\\lib\\site-packages (from requests->stanza) (1.26.4)\n",
      "Requirement already satisfied: idna<3,>=2.5 in c:\\users\\keetu\\appdata\\local\\programs\\python\\python37\\lib\\site-packages (from requests->stanza) (2.10)\n",
      "Requirement already satisfied: certifi>=2017.4.17 in c:\\users\\keetu\\appdata\\local\\programs\\python\\python37\\lib\\site-packages (from requests->stanza) (2020.12.5)\n",
      "Requirement already satisfied: chardet<5,>=3.0.2 in c:\\users\\keetu\\appdata\\local\\programs\\python\\python37\\lib\\site-packages (from requests->stanza) (4.0.0)\n",
      "Requirement already satisfied: six>=1.9 in c:\\users\\keetu\\appdata\\roaming\\python\\python37\\site-packages (from protobuf->stanza) (1.15.0)\n",
      "Installing collected packages: typing-extensions, torch, protobuf, tqdm, stanza\n",
      "Successfully installed protobuf-3.15.8 stanza-1.2 torch-1.8.1 tqdm-4.60.0 typing-extensions-3.7.4.3\n",
      "Collecting stanza\n",
      "  Using cached https://files.pythonhosted.org/packages/50/ae/a70a58ce6b4e2daad538688806ee0f238dbe601954582a74ea57cde6c532/stanza-1.2-py3-none-any.whl\n",
      "Collecting torch>=1.3.0 (from stanza)\n",
      "  Downloading https://files.pythonhosted.org/packages/ff/4d/8393a4f9d7113c2f0db341aea7d312ae7fb41288ce867b72c8940ebddf01/torch-1.8.1-cp37-cp37m-win_amd64.whl (190.5MB)\n",
      "Requirement already satisfied (use --upgrade to upgrade): torch>=1.3.0 from https://files.pythonhosted.org/packages/ff/4d/8393a4f9d7113c2f0db341aea7d312ae7fb41288ce867b72c8940ebddf01/torch-1.8.1-cp37-cp37m-win_amd64.whl#sha256=8ad2252bf09833dcf46a536a78544e349b8256a370e03a98627ebfb118d9555b in c:\\users\\keetu\\appdata\\local\\programs\\python\\python37\\lib\\site-packages (from stanza)\n",
      "Requirement already satisfied: numpy in c:\\users\\keetu\\appdata\\local\\programs\\python\\python37\\lib\\site-packages (from stanza) (1.20.2)\n",
      "Requirement already satisfied: tqdm in c:\\users\\keetu\\appdata\\local\\programs\\python\\python37\\lib\\site-packages (from stanza) (4.60.0)\n",
      "Requirement already satisfied: protobuf in c:\\users\\keetu\\appdata\\local\\programs\\python\\python37\\lib\\site-packages (from stanza) (3.15.8)\n",
      "Requirement already satisfied: requests in c:\\users\\keetu\\appdata\\local\\programs\\python\\python37\\lib\\site-packages (from stanza) (2.25.1)\n",
      "Requirement already satisfied: typing-extensions in c:\\users\\keetu\\appdata\\local\\programs\\python\\python37\\lib\\site-packages (from torch>=1.3.0->stanza) (3.7.4.3)\n",
      "Requirement already satisfied: six>=1.9 in c:\\users\\keetu\\appdata\\roaming\\python\\python37\\site-packages (from protobuf->stanza) (1.15.0)\n",
      "Requirement already satisfied: urllib3<1.27,>=1.21.1 in c:\\users\\keetu\\appdata\\local\\programs\\python\\python37\\lib\\site-packages (from requests->stanza) (1.26.4)\n",
      "Requirement already satisfied: idna<3,>=2.5 in c:\\users\\keetu\\appdata\\local\\programs\\python\\python37\\lib\\site-packages (from requests->stanza) (2.10)\n",
      "Requirement already satisfied: chardet<5,>=3.0.2 in c:\\users\\keetu\\appdata\\local\\programs\\python\\python37\\lib\\site-packages (from requests->stanza) (4.0.0)\n",
      "Requirement already satisfied: certifi>=2017.4.17 in c:\\users\\keetu\\appdata\\local\\programs\\python\\python37\\lib\\site-packages (from requests->stanza) (2020.12.5)\n",
      "Installing collected packages: stanza\n",
      "Successfully installed stanza-1.2\n",
      "Note: you may need to restart the kernel to use updated packages.\n"
     ]
    },
    {
     "name": "stderr",
     "output_type": "stream",
     "text": [
      "ERROR: stanza 1.2 requires protobuf, which is not installed.\n",
      "ERROR: stanza 1.2 requires torch>=1.3.0, which is not installed.\n",
      "ERROR: stanza 1.2 requires tqdm, which is not installed.\n",
      "WARNING: You are using pip version 19.2.3, however version 21.0.1 is available.\n",
      "You should consider upgrading via the 'python -m pip install --upgrade pip' command.\n"
     ]
    }
   ],
   "source": [
    "pip install stanza"
   ]
  },
  {
   "cell_type": "code",
   "execution_count": 19,
   "metadata": {},
   "outputs": [
    {
     "ename": "TypeError",
     "evalue": "'Token' object is not subscriptable",
     "output_type": "error",
     "traceback": [
      "\u001b[1;31m---------------------------------------------------------------------------\u001b[0m",
      "\u001b[1;31mTypeError\u001b[0m                                 Traceback (most recent call last)",
      "\u001b[1;32m<ipython-input-19-fcea52b13d51>\u001b[0m in \u001b[0;36m<module>\u001b[1;34m\u001b[0m\n\u001b[0;32m      1\u001b[0m \u001b[1;32mfrom\u001b[0m \u001b[0mstanza\u001b[0m\u001b[1;33m.\u001b[0m\u001b[0mutils\u001b[0m\u001b[1;33m.\u001b[0m\u001b[0mconll\u001b[0m \u001b[1;32mimport\u001b[0m \u001b[0mCoNLL\u001b[0m\u001b[1;33m\u001b[0m\u001b[1;33m\u001b[0m\u001b[0m\n\u001b[1;32m----> 2\u001b[1;33m \u001b[0mdicts\u001b[0m \u001b[1;33m=\u001b[0m \u001b[0mCoNLL\u001b[0m\u001b[1;33m.\u001b[0m\u001b[0mconvert_conll\u001b[0m\u001b[1;33m(\u001b[0m\u001b[0mtrain\u001b[0m\u001b[1;33m)\u001b[0m\u001b[1;33m\u001b[0m\u001b[1;33m\u001b[0m\u001b[0m\n\u001b[0m",
      "\u001b[1;32m~\\AppData\\Local\\Programs\\Python\\Python37\\lib\\site-packages\\stanza\\utils\\conll.py\u001b[0m in \u001b[0;36mconvert_conll\u001b[1;34m(doc_conll)\u001b[0m\n\u001b[0;32m     59\u001b[0m             \u001b[0msent_dict\u001b[0m \u001b[1;33m=\u001b[0m \u001b[1;33m[\u001b[0m\u001b[1;33m]\u001b[0m\u001b[1;33m\u001b[0m\u001b[1;33m\u001b[0m\u001b[0m\n\u001b[0;32m     60\u001b[0m             \u001b[1;32mfor\u001b[0m \u001b[0mtoken_conll\u001b[0m \u001b[1;32min\u001b[0m \u001b[0msent_conll\u001b[0m\u001b[1;33m:\u001b[0m\u001b[1;33m\u001b[0m\u001b[1;33m\u001b[0m\u001b[0m\n\u001b[1;32m---> 61\u001b[1;33m                 \u001b[0mtoken_dict\u001b[0m \u001b[1;33m=\u001b[0m \u001b[0mCoNLL\u001b[0m\u001b[1;33m.\u001b[0m\u001b[0mconvert_conll_token\u001b[0m\u001b[1;33m(\u001b[0m\u001b[0mtoken_conll\u001b[0m\u001b[1;33m)\u001b[0m\u001b[1;33m\u001b[0m\u001b[1;33m\u001b[0m\u001b[0m\n\u001b[0m\u001b[0;32m     62\u001b[0m                 \u001b[0msent_dict\u001b[0m\u001b[1;33m.\u001b[0m\u001b[0mappend\u001b[0m\u001b[1;33m(\u001b[0m\u001b[0mtoken_dict\u001b[0m\u001b[1;33m)\u001b[0m\u001b[1;33m\u001b[0m\u001b[1;33m\u001b[0m\u001b[0m\n\u001b[0;32m     63\u001b[0m             \u001b[0mdoc_dict\u001b[0m\u001b[1;33m.\u001b[0m\u001b[0mappend\u001b[0m\u001b[1;33m(\u001b[0m\u001b[0msent_dict\u001b[0m\u001b[1;33m)\u001b[0m\u001b[1;33m\u001b[0m\u001b[1;33m\u001b[0m\u001b[0m\n",
      "\u001b[1;32m~\\AppData\\Local\\Programs\\Python\\Python37\\lib\\site-packages\\stanza\\utils\\conll.py\u001b[0m in \u001b[0;36mconvert_conll_token\u001b[1;34m(token_conll)\u001b[0m\n\u001b[0;32m     72\u001b[0m         \u001b[0mtoken_dict\u001b[0m \u001b[1;33m=\u001b[0m \u001b[1;33m{\u001b[0m\u001b[1;33m}\u001b[0m\u001b[1;33m\u001b[0m\u001b[1;33m\u001b[0m\u001b[0m\n\u001b[0;32m     73\u001b[0m         \u001b[1;32mfor\u001b[0m \u001b[0mfield\u001b[0m \u001b[1;32min\u001b[0m \u001b[0mFIELD_TO_IDX\u001b[0m\u001b[1;33m:\u001b[0m\u001b[1;33m\u001b[0m\u001b[1;33m\u001b[0m\u001b[0m\n\u001b[1;32m---> 74\u001b[1;33m             \u001b[0mvalue\u001b[0m \u001b[1;33m=\u001b[0m \u001b[0mtoken_conll\u001b[0m\u001b[1;33m[\u001b[0m\u001b[0mFIELD_TO_IDX\u001b[0m\u001b[1;33m[\u001b[0m\u001b[0mfield\u001b[0m\u001b[1;33m]\u001b[0m\u001b[1;33m]\u001b[0m\u001b[1;33m\u001b[0m\u001b[1;33m\u001b[0m\u001b[0m\n\u001b[0m\u001b[0;32m     75\u001b[0m             \u001b[1;32mif\u001b[0m \u001b[0mvalue\u001b[0m \u001b[1;33m!=\u001b[0m \u001b[1;34m'_'\u001b[0m\u001b[1;33m:\u001b[0m\u001b[1;33m\u001b[0m\u001b[1;33m\u001b[0m\u001b[0m\n\u001b[0;32m     76\u001b[0m                 \u001b[1;32mif\u001b[0m \u001b[0mfield\u001b[0m \u001b[1;33m==\u001b[0m \u001b[0mHEAD\u001b[0m\u001b[1;33m:\u001b[0m\u001b[1;33m\u001b[0m\u001b[1;33m\u001b[0m\u001b[0m\n",
      "\u001b[1;31mTypeError\u001b[0m: 'Token' object is not subscriptable"
     ]
    }
   ],
   "source": [
    "from stanza.utils.conll import CoNLL\r\n",
    "dicts = CoNLL.convert_conll(train)"
   ]
  }
 ],
 "metadata": {
  "kernelspec": {
   "display_name": "Python 3.7.6 64-bit",
   "name": "python376jvsc74a57bd0f5d60b673bbbc194a180925bc8001f1badeda51edade5ea1395c8bd32b859e19"
  },
  "language_info": {
   "name": "python",
   "version": ""
  },
  "metadata": {
   "interpreter": {
    "hash": "f5d60b673bbbc194a180925bc8001f1badeda51edade5ea1395c8bd32b859e19"
   }
  },
  "orig_nbformat": 2
 },
 "nbformat": 4,
 "nbformat_minor": 2
}